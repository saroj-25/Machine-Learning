{
 "cells": [
  {
   "cell_type": "code",
   "execution_count": 2,
   "id": "29e51da9",
   "metadata": {},
   "outputs": [
    {
     "name": "stdout",
     "output_type": "stream",
     "text": [
      "Hello world\n"
     ]
    }
   ],
   "source": [
    "print(\"Hello world\")\n"
   ]
  },
  {
   "cell_type": "markdown",
   "id": "29b599a6",
   "metadata": {},
   "source": [
    "# Module1: Basics in python and ethical Hacking "
   ]
  },
  {
   "cell_type": "markdown",
   "id": "64655907",
   "metadata": {},
   "source": [
    "### Variable in Python\n"
   ]
  },
  {
   "cell_type": "code",
   "execution_count": null,
   "id": "b21d9d2a",
   "metadata": {},
   "outputs": [
    {
     "name": "stdout",
     "output_type": "stream",
     "text": [
      "Hacker21\n",
      "Hacker 21 4.9 True ['nmap', 'wireshak', 'brup']\n",
      "Hacker\n",
      "21\n",
      "4.9\n",
      "True\n",
      "['nmap', 'wireshak', 'brup']\n",
      "['brup', 'wireshak', 'nmap']\n",
      "['nmap', 'wireshak', 'brup']\n",
      "<class 'str'>\n",
      "prabina\n"
     ]
    }
   ],
   "source": [
    "name = \"Hacker\"\n",
    "age = 21 \n",
    "rating = 4.9\n",
    "is_Active = True\n",
    "\n",
    "tools = [\"nmap\", \"wireshak\", \"brup\"]\n",
    "\n",
    "#What will be the output of?\n",
    "result = name+str(age)\n",
    "print(result)\n",
    "\n",
    "print(name, age, rating, is_Active, tools)\n",
    "\n",
    "print(name,age,rating,is_Active,tools, sep=\"\\n\")\n",
    "#to acessing last elements of the list\n",
    "print(tools[::-1])\n",
    "print(tools [0::]) \n",
    "\n",
    "tuple = (1,\"Prabina\",10.3,'c')\n",
    "print(type(tuple[-1]))\n",
    "\n",
    "dict = {\"name\": \"prabina\",\"age\": 21,  \"city\": \"Kathmandu\"}\n",
    "\n",
    "print(dict[\"name\"])\n",
    "\n",
    "\n",
    "\n",
    "i = 5\n",
    "for i in range()\n",
    "\n",
    "\n"
   ]
  },
  {
   "cell_type": "markdown",
   "id": "1d44efe6",
   "metadata": {},
   "source": [
    "# Day 2"
   ]
  },
  {
   "cell_type": "code",
   "execution_count": 2,
   "id": "c89df942",
   "metadata": {},
   "outputs": [
    {
     "name": "stdout",
     "output_type": "stream",
     "text": [
      "*\n",
      "**\n",
      "***\n",
      "****\n",
      "*****\n"
     ]
    }
   ],
   "source": [
    "# loops in python\n",
    "\n",
    "rows = 5\n",
    "\n",
    "for i in range(1,rows +1):\n",
    "    print(\"*\" * i)\n"
   ]
  },
  {
   "cell_type": "code",
   "execution_count": 5,
   "id": "6533e79b",
   "metadata": {},
   "outputs": [
    {
     "name": "stdout",
     "output_type": "stream",
     "text": [
      "*****\n",
      "****\n",
      "***\n",
      "**\n",
      "*\n"
     ]
    }
   ],
   "source": [
    "''''Inverted pattern'''\n",
    "\n",
    "rows = 5\n",
    "for i in range(rows,0,-1):# (start, end , kati ley ghatayuni )\n",
    "    print(\"*\"*i) "
   ]
  },
  {
   "cell_type": "code",
   "execution_count": 23,
   "id": "4dbe4b87",
   "metadata": {},
   "outputs": [
    {
     "name": "stdout",
     "output_type": "stream",
     "text": [
      "     *\n",
      "     ***\n",
      "     *****\n",
      "     *******\n",
      "     *********\n"
     ]
    }
   ],
   "source": [
    "row = 6\n",
    "for i in range(1,row):\n",
    "    print(\" \"*(row-1) + \"*\"*(2*i-1))"
   ]
  },
  {
   "cell_type": "code",
   "execution_count": 24,
   "id": "9ac39bf4",
   "metadata": {},
   "outputs": [
    {
     "name": "stdout",
     "output_type": "stream",
     "text": [
      "0\n",
      "10\n",
      "010\n",
      "1010\n",
      "01010\n"
     ]
    }
   ],
   "source": [
    "#0\n",
    "#10\n",
    "#010\n",
    "#1010\n",
    "#01010\n",
    "rows = int(input(\"Enter the row value:\"))\n",
    "for i in range(1, rows + 1):\n",
    "    for j in range(1, i + 1):\n",
    "        print((i+j)%2, end=\"\")\n",
    "\n",
    "       \n",
    "    \n",
    "    "
   ]
  },
  {
   "cell_type": "code",
   "execution_count": null,
   "metadata": {},
   "outputs": [],
   "source": [
    "'''calculate the area of square using function'''\n",
    "def area(n,m):\n",
    "    return n*m\n",
    "print(area(5,10))"
   ]
  },
  {
   "cell_type": "code",
   "execution_count": null,
   "id": "33d50e6d",
   "metadata": {},
   "outputs": [
    {
     "name": "stdout",
     "output_type": "stream",
     "text": [
      "['I', 'am', 'a', 'Ethical', 'Hacker.']\n"
     ]
    }
   ],
   "source": [
    "def circle(r):\n",
    "    return 3.14*r*r\n",
    "def rect(l,b):\n",
    "    return l*b\n",
    "def square"
   ]
  },
  {
   "cell_type": "code",
   "execution_count": null,
   "id": "ac2dcf6b",
   "metadata": {},
   "outputs": [],
   "source": [
    "# String \n",
    "message = \"I am a Ethical Hacker.\"\n",
    "Words=message.split()\n",
    "print(Words)"
   ]
  },
  {
   "cell_type": "code",
   "execution_count": 3,
   "id": "01952e49",
   "metadata": {},
   "outputs": [
    {
     "name": "stdout",
     "output_type": "stream",
     "text": [
      "I am a Ethical Hacker.\n",
      "['I', 'am', 'a', 'Ethical', 'Hacker.']\n"
     ]
    },
    {
     "ename": "NameError",
     "evalue": "name 'joined' is not defined",
     "output_type": "error",
     "traceback": [
      "\u001b[1;31m---------------------------------------------------------------------------\u001b[0m",
      "\u001b[1;31mNameError\u001b[0m                                 Traceback (most recent call last)",
      "Cell \u001b[1;32mIn[3], line 6\u001b[0m\n\u001b[0;32m      3\u001b[0m \u001b[38;5;28mprint\u001b[39m(message)\n\u001b[0;32m      4\u001b[0m \u001b[38;5;28mprint\u001b[39m(Words)\n\u001b[1;32m----> 6\u001b[0m \u001b[43mjoined\u001b[49m\n",
      "\u001b[1;31mNameError\u001b[0m: name 'joined' is not defined"
     ]
    }
   ],
   "source": [
    "message = \"I am a Ethical Hacker.\"\n",
    "Words=message.split()\n",
    "print(message)\n",
    "print(Words)\n",
    "\n",
    "joined"
   ]
  },
  {
   "cell_type": "code",
   "execution_count": null,
   "id": "222b9099",
   "metadata": {},
   "outputs": [
    {
     "name": "stdout",
     "output_type": "stream",
     "text": [
      "720\n"
     ]
    }
   ],
   "source": [
    "# premutation and combination\n",
    "n = int(input(\"Enter the number\"))\n",
    "def fact(n):\n",
    "    if n==0 or n==1:\n",
    "        return 1\n",
    "    else:\n",
    "        return n*fact(n-1)\n",
    "print(fact(n))"
   ]
  },
  {
   "cell_type": "markdown",
   "id": "b45322cd",
   "metadata": {},
   "source": [
    "# permutation and Combination\n",
    "\n",
    "## Iteration tool module\n",
    "- Iterate tool module helps to generate premutaion and combinations using nested loops\n",
    "-  **product()** all possible combinations i.e. Cartician Product. it helps to generate multiple password combinations"
   ]
  },
  {
   "cell_type": "code",
   "execution_count": null,
   "id": "965f39e0",
   "metadata": {},
   "outputs": [
    {
     "name": "stdout",
     "output_type": "stream",
     "text": [
      "99\n",
      "98\n",
      "92\n",
      "93\n",
      "98\n",
      "90\n",
      "93\n",
      "99\n",
      "98\n",
      "93\n",
      "9@\n",
      "89\n",
      "88\n",
      "82\n",
      "83\n",
      "88\n",
      "80\n",
      "83\n",
      "89\n",
      "88\n",
      "83\n",
      "8@\n",
      "29\n",
      "28\n",
      "22\n",
      "23\n",
      "28\n",
      "20\n",
      "23\n",
      "29\n",
      "28\n",
      "23\n",
      "2@\n",
      "39\n",
      "38\n",
      "32\n",
      "33\n",
      "38\n",
      "30\n",
      "33\n",
      "39\n",
      "38\n",
      "33\n",
      "3@\n",
      "89\n",
      "88\n",
      "82\n",
      "83\n",
      "88\n",
      "80\n",
      "83\n",
      "89\n",
      "88\n",
      "83\n",
      "8@\n",
      "09\n",
      "08\n",
      "02\n",
      "03\n",
      "08\n",
      "00\n",
      "03\n",
      "09\n",
      "08\n",
      "03\n",
      "0@\n",
      "39\n",
      "38\n",
      "32\n",
      "33\n",
      "38\n",
      "30\n",
      "33\n",
      "39\n",
      "38\n",
      "33\n",
      "3@\n",
      "99\n",
      "98\n",
      "92\n",
      "93\n",
      "98\n",
      "90\n",
      "93\n",
      "99\n",
      "98\n",
      "93\n",
      "9@\n",
      "89\n",
      "88\n",
      "82\n",
      "83\n",
      "88\n",
      "80\n",
      "83\n",
      "89\n",
      "88\n",
      "83\n",
      "8@\n",
      "39\n",
      "38\n",
      "32\n",
      "33\n",
      "38\n",
      "30\n",
      "33\n",
      "39\n",
      "38\n",
      "33\n",
      "3@\n",
      "@9\n",
      "@8\n",
      "@2\n",
      "@3\n",
      "@8\n",
      "@0\n",
      "@3\n",
      "@9\n",
      "@8\n",
      "@3\n",
      "@@\n"
     ]
    }
   ],
   "source": [
    "import itertools\n",
    "char = '9823803983@'\n",
    "length = 2\n",
    "for combo in itertools.product(char, repeat=length):\n",
    "    print(''.join(combo))"
   ]
  },
  {
   "cell_type": "code",
   "execution_count": null,
   "id": "288ec90a",
   "metadata": {},
   "outputs": [],
   "source": []
  },
  {
   "cell_type": "markdown",
   "id": "ffef3abe",
   "metadata": {},
   "source": [
    "# Password and Combinations\n",
    "\n",
    "| Charset                   | Size | Description                  |\n",
    "|---------------------------|------|------------------------------|\n",
    "| Digit only (0–9)          | 10   | Numbers from 0 to 9          |\n",
    "| Lowercase Char (a–z)      | 26   | Lowercase English letters    |\n",
    "| Uppercase Char (A–Z)      | 26   | Uppercase English letters    |\n",
    "| Alpha + Numeric           | 36   | a–z and 0–9                  |\n",
    "| AlphaNumeric + Uppercase | 62   | a–z, A–Z, and 0–9            |"
   ]
  },
  {
   "cell_type": "markdown",
   "id": "3c8deb25",
   "metadata": {
    "vscode": {
     "languageId": "markdown"
    }
   },
   "source": [
    "# we are try to attack the password then what can be the combinations\n",
    "\n",
    "| Password Length | Character Set       | Set Size | Total Combinations      | Estimated Time          |\n",
    "|-----------------|---------------------|----------|--------------------------|--------------------------|\n",
    "| 3               | Digits (0–9)         | 10       | 10³ = 1,000              | 1 second                 |\n",
    "| 4               | Lowercase (a–z)      | 26       | 26⁴ = 456,976            | ~7.6 minutes             |\n",
    "| 5               | Lowercase (a–z)      | 26       | 26⁵ = 11,881,376         | ~3.3 hours               |\n",
    "| 6               | Lowercase (a–z)      | 26       | 26⁶ = 308,915,776        | ~3.6 days                |\n",
    "| 6               | Digits (0–9)         | 10       | 10⁶ = 1,000,000          | ~16.7 minutes            |\n",
    "| 6               | Alphanumeric (a–z,0–9) | 36     | 36⁶ = 2,176,782,336      | ~25 days                |\n",
    "| 6               | Lower + Upper (a–z, A–Z) | 52   | 52⁶ = 19,770,609,664     | ~229 days               |\n",
    "| 6               | All ASCII (a–z, A–Z, 0–9, symbols) | 95 | 95⁶ ≈ 735 billion | ~23 years               |\n",
    "| 7               | Lowercase (a–z)      | 26       | 26⁷ = 8,031,810,176      | ~93 days                |\n",
    "| 8               | Digits only (0–9)    | 10       | 10⁸ = 100,000,000        | ~27.8 hours             |\n",
    "| 8               | Lowercase (a–z)      | 26       | 26⁸ = 208,827,064,576    | ~6.6 years              |\n",
    "| 8               | Alphanumeric (a–z,0–9) | 36     | 36⁸ ≈ 2.8 trillion        | ~89 years               |\n",
    "| 8               | All ASCII (95 chars) | 95       | 95⁸ ≈ 6.6 quadrillion     | ~209,000 years          |\n",
    "| 10              | Digits (0–9)         | 10       | 10¹⁰ = 10,000,000,000    | ~115 days               |\n",
    "| 10              | Lowercase (a–z)      | 26       | 26¹⁰ ≈ 1.4 x 10¹⁴         | ~4,456 years            |\n",
    "| 10              | Alphanumeric         | 36       | 36¹⁰ ≈ 3.6 x 10¹⁵         | ~114,000 years          |\n",
    "| 10              | Full ASCII (95)      | 95       | 95¹⁰ ≈ 5.99 x 10¹⁹        | ~1.9 billion years      |\n"
   ]
  },
  {
   "cell_type": "code",
   "execution_count": null,
   "metadata": {},
   "outputs": [
    {
     "ename": "",
     "evalue": "",
     "output_type": "error",
     "traceback": [
      "\u001b[1;31mThe Kernel crashed while executing code in the current cell or a previous cell. \n",
      "\u001b[1;31mPlease review the code in the cell(s) to identify a possible cause of the failure. \n",
      "\u001b[1;31mClick <a href='https://aka.ms/vscodeJupyterKernelCrash'>here</a> for more info. \n",
      "\u001b[1;31mView Jupyter <a href='command:jupyter.viewOutput'>log</a> for further details."
     ]
    }
   ],
   "source": [
    "from base64 import encode\n",
    "import mysql.connector\n",
    "import hashlib\n",
    "\n",
    "# connect to mysql\n",
    "conn = mysql.connector.connect(\n",
    "    host=\"localhost\",\n",
    "    user=\"root\",\n",
    "    password=\"\",\n",
    "    database=\"MachineLearning\"\n",
    ")\n",
    "\n",
    "\n",
    "cur=conn.cursor()\n",
    "# cur.execute(\"SHOW DATABASES\")\n",
    "# conn.commit()\n",
    "password='liz@n'\n",
    "hased=hashlib.sha256(password.encode()).hexdigest()\n",
    "cur.execute(\"INSERT INTO Users(UserName, Password) VALUES(%s, %s)\", ('liz@n', hased))\n",
    "conn.commit()\n",
    "\n",
    "\n",
    "\n",
    "for cursor in cur:\n",
    "    print(cursor)"
   ]
  },
  {
   "cell_type": "code",
   "execution_count": null,
   "id": "2b0a34c3",
   "metadata": {},
   "outputs": [],
   "source": []
  }
 ],
 "metadata": {
  "kernelspec": {
   "display_name": "Python 3",
   "language": "python",
   "name": "python3"
  },
  "language_info": {
   "codemirror_mode": {
    "name": "ipython",
    "version": 3
   },
   "file_extension": ".py",
   "mimetype": "text/x-python",
   "name": "python",
   "nbconvert_exporter": "python",
   "pygments_lexer": "ipython3",
   "version": "3.13.2"
  }
 },
 "nbformat": 4,
 "nbformat_minor": 5
}
