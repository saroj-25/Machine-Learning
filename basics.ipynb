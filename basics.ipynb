{
 "cells": [
  {
   "cell_type": "markdown",
   "id": "1f053a36",
   "metadata": {},
   "source": [
    "# Module: Basics of python and Ethical Hacking"
   ]
  },
  {
   "cell_type": "code",
   "execution_count": null,
   "id": "d44b5090",
   "metadata": {},
   "outputs": [],
   "source": [
    "print(\"Hello World\")"
   ]
  },
  {
   "cell_type": "markdown",
   "id": "a60b14f7",
   "metadata": {},
   "source": [
    "# Variables in Python\n"
   ]
  },
  {
   "cell_type": "code",
   "execution_count": null,
   "id": "6e3b439e",
   "metadata": {},
   "outputs": [],
   "source": [
    "name = \"Hacker\"\n",
    "age = 21\n",
    "rating = 4.9\n",
    "is_Active = True\n",
    "\n",
    "\n",
    "tools = [\"nmap\",\"wireshark\",\"burpsuite\"]\n",
    " #What will be the output of?\n",
    "result = name+str(age)\n",
    "print(result)\n",
    "\n",
    "print(f\"{name}\\n{age}\\n{rating}\\n{is_Active}\\n{tools}\")\n",
    "print(name,age,rating,tools,is_Active, sep=\"\\n\")\n",
    "print(tools[-1])\n",
    "print(tools[::-1])\n",
    "print(tools[0:])\n",
    "tuppe=(12,\"hey\",12.05,True,\"food\",\"life\",2,\"hell\")\n",
    "print( type(tuppe[-1]))\n",
    "profile={\"name\":\"udaya\",\"age\":24,\"cast\":\"Gurung\"}\n",
    "print(profile[\"name\"])\n",
    "for key , value in profile.items():\n",
    "    print(f\"{key}->{value}\")"
   ]
  },
  {
   "cell_type": "code",
   "execution_count": null,
   "id": "2c7ad548",
   "metadata": {},
   "outputs": [],
   "source": [
    "# loop in python \n",
    "# right angle trianglefor \n",
    "n = 5 \n",
    "for i in range (1,n+1):\n",
    "    print(\"*\"*i)"
   ]
  },
  {
   "cell_type": "code",
   "execution_count": null,
   "id": "2279b1d8",
   "metadata": {},
   "outputs": [],
   "source": [
    "n = 5\n",
    "for i in range(n,0,-1):\n",
    "    print(\"*\"*i)"
   ]
  },
  {
   "cell_type": "code",
   "execution_count": null,
   "id": "e3e00c70",
   "metadata": {},
   "outputs": [],
   "source": [
    "n = 5\n",
    "for i in range(n,0,-1):\n",
    "    print(\"*\"*i)\n",
    "for i in range (1,n+1):\n",
    "    print(\"*\"*i)\n",
    "\n",
    "for i in range(1,n):\n",
    "    print(\"*\")"
   ]
  },
  {
   "cell_type": "code",
   "execution_count": null,
   "id": "53b6cdfb",
   "metadata": {},
   "outputs": [],
   "source": [
    "n= 5\n",
    "for i in range(1,n+1):\n",
    "    print(\" \"*(n-i) +\"*\"*(2*i-1))\n",
    "    \n"
   ]
  },
  {
   "cell_type": "code",
   "execution_count": null,
   "id": "b1e01387",
   "metadata": {},
   "outputs": [],
   "source": [
    "n = int(input(\"Enter the no of n:\"))\n",
    "for i in range(1,n+1):\n",
    "    for j in range(1,i+1):\n",
    "        print((i+j)%2,end=\"\")\n",
    "    print()"
   ]
  },
  {
   "cell_type": "code",
   "execution_count": null,
   "id": "02a8d5ee",
   "metadata": {},
   "outputs": [],
   "source": [
    "# Functions in python\n",
    "\"Calculate the area of square using function\"\n",
    "\n",
    "def sqarea(a,b):\n",
    "    return a*b\n",
    "sqarea(a,b)\n",
    "    \n",
    "    \n",
    "\n",
    "\n",
    "    "
   ]
  },
  {
   "cell_type": "code",
   "execution_count": null,
   "id": "7034d8fc",
   "metadata": {},
   "outputs": [],
   "source": [
    "\n",
    "def circle(r):\n",
    "    return 3.14 * r * r\n",
    "\n",
    "def square(l):\n",
    "    return l * l\n",
    "\n",
    "def rec(a, b):\n",
    "    return a * b\n",
    "\n",
    "def triangle(B, h):\n",
    "    return 0.5 * B * h\n",
    "\n",
    "while True:\n",
    "    print(\"\\nChoose a shape to calculate area:\")\n",
    "    print(\"1: Circle\")\n",
    "    print(\"2: Square\")\n",
    "    print(\"3: Rectangle\")\n",
    "    print(\"4: Triangle\")\n",
    "    print(\"5: Exit\")\n",
    "    calc = int(input(\"Enter your choice (1-5): \"))\n",
    "\n",
    "    if calc == 1:\n",
    "        r = float(input(\"Enter radius: \"))\n",
    "        print(\"Area of circle =\", circle(r))\n",
    "    elif calc == 2:\n",
    "        l = float(input(\"Enter side length: \"))\n",
    "        print(\"Area of square =\", square(l))\n",
    "    elif calc == 3:\n",
    "        a = float(input(\"Enter length: \"))\n",
    "        b = float(input(\"Enter breadth: \"))\n",
    "        print(\"Area of rectangle =\", rec(a, b))\n",
    "    elif calc == 4:\n",
    "        B = float(input(\"Enter base: \"))\n",
    "        h = float(input(\"Enter height: \"))\n",
    "        print(\"Area of triangle =\", triangle(B, h))\n",
    "        break\n",
    "    else:\n",
    "        print(\"Exited\")\n",
    "    \n",
    "\n",
    "    \n",
    "   \n",
    "\n",
    "    \n",
    "        \n",
    "\n",
    "\n",
    "        \n"
   ]
  },
  {
   "cell_type": "code",
   "execution_count": null,
   "id": "35524f89",
   "metadata": {},
   "outputs": [],
   "source": [
    "# first words into letters(list)\n",
    "# String\n",
    "message= \"I am an ethical hacker\"\n",
    "\n",
    "words = message.split()#['I', 'am', 'an', 'ethical', 'hacker']\n",
    "\n",
    "print(words)\n",
    "\n",
    "\n",
    "joined = \"->\".join(words)#I->am->an->ethical->hacker\n",
    "print(joined)\n",
    "\n",
    "\n",
    "\n"
   ]
  },
  {
   "cell_type": "code",
   "execution_count": null,
   "id": "d9d1e99c",
   "metadata": {},
   "outputs": [],
   "source": [
    "#calculate the factorial using recursion\n",
    "n=int(input(\"Enter the value of n\"))\n",
    "def fact(n):\n",
    "    if(n==0 ):\n",
    "        return 1\n",
    "    else:\n",
    "        return n*fact(n-1)\n",
    "fact(n)\n",
    "    \n"
   ]
  },
  {
   "cell_type": "markdown",
   "id": "502b456c",
   "metadata": {},
   "source": [
    "# Permutation and combination``\n",
    "## Itertool module:\n",
    "- Iterate tool module helps to generate permutation and combinations using nested loops\n",
    "- **product()** all possible combinations i.e. Cartician Product. It helps to generate multiple password combinations."
   ]
  },
  {
   "cell_type": "code",
   "execution_count": null,
   "id": "d1498540",
   "metadata": {},
   "outputs": [],
   "source": [
    "import itertools\n",
    "\n",
    "char = 'abl'\n",
    "length= 3\n",
    "\n",
    "for combo in itertools.product(char,repeat =length):\n",
    "    print(''.join(combo))"
   ]
  },
  {
   "cell_type": "markdown",
   "id": "df117d7c",
   "metadata": {},
   "source": [
    "# Password Charsets and Sizes\n",
    "\n",
    "| Charset                  | Description                  | Size |\n",
    "|--------------------------|-------------------------------|------|\n",
    "| Digit only               | 0-9                           | 10   |\n",
    "| Lowercase letters        | a-z                           | 26   |\n",
    "| Uppercase letters        | A-Z                           | 26   |\n",
    "| Alphanumeric (lower)     | a-z + 0-9                     | 36   |\n",
    "| Alphanumeric (full)      | a-z + A-Z + 0-9               | 62   |\n"
   ]
  },
  {
   "cell_type": "markdown",
   "id": "8ba99122",
   "metadata": {},
   "source": [
    "# We are trying to attack the password then what can be the combinations\n",
    "\n",
    "| Password Length | Character Set       | Set Size | Total Combinations      | Estimated Time          |\n",
    "|-----------------|---------------------|----------|--------------------------|--------------------------|\n",
    "| 3               | Digits (0–9)         | 10       | 10³ = 1,000              | 1 second                 |\n",
    "| 4               | Lowercase (a–z)      | 26       | 26⁴ = 456,976            | ~7.6 minutes             |\n",
    "| 5               | Lowercase (a–z)      | 26       | 26⁵ = 11,881,376         | ~3.3 hours               |\n",
    "| 6               | Lowercase (a–z)      | 26       | 26⁶ = 308,915,776        | ~3.6 days                |\n",
    "| 6               | Digits (0–9)         | 10       | 10⁶ = 1,000,000          | ~16.7 minutes            |\n",
    "| 6               | Alphanumeric (a–z,0–9) | 36     | 36⁶ = 2,176,782,336      | ~25 days                |\n",
    "| 6               | Lower + Upper (a–z, A–Z) | 52   | 52⁶ = 19,770,609,664     | ~229 days               |\n",
    "| 6               | All ASCII (a–z, A–Z, 0–9, symbols) | 95 | 95⁶ ≈ 735 billion | ~23 years               |\n",
    "| 7               | Lowercase (a–z)      | 26       | 26⁷ = 8,031,810,176      | ~93 days                |\n",
    "| 8               | Digits only (0–9)    | 10       | 10⁸ = 100,000,000        | ~27.8 hours             |\n",
    "| 8               | Lowercase (a–z)      | 26       | 26⁸ = 208,827,064,576    | ~6.6 years              |\n",
    "| 8               | Alphanumeric (a–z,0–9) | 36     | 36⁸ ≈ 2.8 trillion        | ~89 years               |\n",
    "| 8               | All ASCII (95 chars) | 95       | 95⁸ ≈ 6.6 quadrillion     | ~209,000 years          |\n",
    "| 10              | Digits (0–9)         | 10       | 10¹⁰ = 10,000,000,000    | ~115 days               |\n",
    "| 10              | Lowercase (a–z)      | 26       | 26¹⁰ ≈ 1.4 x 10¹⁴         | ~4,456 years            |\n",
    "| 10              | Alphanumeric         | 36       | 36¹⁰ ≈ 3.6 x 10¹⁵         | ~114,000 years          |\n",
    "| 10              | Full ASCII (95)      | 95       | 95¹⁰ ≈ 5.99 x 10¹⁹        | ~1.9 billion years      |"
   ]
  },
  {
   "cell_type": "code",
   "execution_count": 1,
   "id": "300b6245",
   "metadata": {},
   "outputs": [
    {
     "name": "stdout",
     "output_type": "stream",
     "text": [
      "(1, 'Udaya', 'ud@y@')\n",
      "(4, 'Udaya', '1c9799c68ac8d559dba4f2ae9876898461d4ee8ec8c79e582e901c9e97a8d2b4')\n",
      "(5, 'Udaya', '67df90a2988d9c684a97b011128ff3a14aab5eb86f4f26992b70cfcf1239e9f5')\n",
      "(6, 'Udaya', '92617550832124e9767260472b273fd51cc4822903303cdde882115411456dea')\n",
      "(7, 'Udaya', 'e3b0c44298fc1c149afbf4c8996fb92427ae41e4649b934ca495991b7852b855')\n",
      "(10, 'Udaya', '2e1d2bb96c7fd74de57bd8432c0a0354d2ad21cf995f133927bb99f357d0b937')\n",
      "(17, 'f0763513a2a0844788331428905bb6121427ee0fe7597229de92c7ff4725f0f9', '78b27ea5df210389c8b8534df8516a74f3731375d26fc5e76681f7f7c7e4e340')\n"
     ]
    }
   ],
   "source": [
    "import mysql.connector\n",
    "from base64 import encode\n",
    "import hashlib\n",
    "# connect to mysql\n",
    "conn = mysql.connector.connect(\n",
    "    host=\"localhost\",\n",
    "    user=\"root\",\n",
    "    password=\"Udayadon@90\",\n",
    "    database=\"MachineLearning\"\n",
    ")\n",
    "cur=conn.cursor()\n",
    "#cur.execute(\"SHOW DATABASES\")\n",
    "password =\"Udayado\"\n",
    "username = \"ugg\"\n",
    "hashed=hashlib.sha256(password.encode()).hexdigest()\n",
    "hased=hashlib.sha256(username.encode()).hexdigest()\n",
    "cur.execute(\"INSERT INTO users(UserName,Password) Values (%s,%s)\",(hased, hashed))\n",
    "conn.commit()\n",
    "cur.execute(\"Select * From users\")\n",
    "for cursor in cur:\n",
    "    print(cursor)"
   ]
  }
 ],
 "metadata": {
  "kernelspec": {
   "display_name": "Python 3",
   "language": "python",
   "name": "python3"
  },
  "language_info": {
   "codemirror_mode": {
    "name": "ipython",
    "version": 3
   },
   "file_extension": ".py",
   "mimetype": "text/x-python",
   "name": "python",
   "nbconvert_exporter": "python",
   "pygments_lexer": "ipython3",
   "version": "3.13.2"
  }
 },
 "nbformat": 4,
 "nbformat_minor": 5
}
