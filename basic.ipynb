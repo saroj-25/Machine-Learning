{
 "cells": [
  {
   "cell_type": "markdown",
   "id": "2404327d",
   "metadata": {},
   "source": [
    "# Module1: Basics or Python and Ethical Hacking"
   ]
  },
  {
   "cell_type": "code",
   "execution_count": 2,
   "id": "1708c76a",
   "metadata": {},
   "outputs": [
    {
     "name": "stdout",
     "output_type": "stream",
     "text": [
      "Hello Sky\n"
     ]
    }
   ],
   "source": [
    "print(\"Hello Sky\")"
   ]
  },
  {
   "cell_type": "markdown",
   "id": "222d6e96",
   "metadata": {},
   "source": [
    "## Variables in Python"
   ]
  },
  {
   "cell_type": "code",
   "execution_count": null,
   "id": "693ae06a",
   "metadata": {},
   "outputs": [],
   "source": [
    "name= \"Sky\"\n",
    "age= 20\n",
    "rating= 4.5\n",
    "is_Active= True\n",
    "\n",
    "\n",
    "tools =[\"nmap\",\"burp suite\",\"wireshark\"]\n",
    "\n",
    "#What will be the output of this code?\n",
    "result =name+str(age)\n",
    "print(result)\n",
    "\n",
    "print(f\"{name}\\n{age}\\n{rating}\\n{is_Active}\\n{tools}\\n\")\n",
    "print(name,age,rating,is_Active,tools, sep=\"\\n\")\n",
    "\n",
    "#Accessing last element of a list\n",
    "print(tools[-1])\n",
    "\n",
    "#print the elements reversed\n",
    "print(tools[::-1])\n",
    "\n",
    "#first to last element\n",
    "print(tools[0:])\n",
    "\n",
    "#create a touple of 7 diffrerent datatypes\n",
    "tuples = (20, \"Sudip\", 4.5, True, [1,2,3], \"Python\", 2)\n",
    "\n",
    "#print last element of the tuple\n",
    "print(tuples[-1])\n",
    "\n",
    "#know the data type of the last tuple element\n",
    "print(type(tuples[-1]))\n",
    "\n",
    "#Create a dictionary with 5 key-value pairs\n",
    "dictionary = { \n",
    "    \"name\": \"Sudip\",\n",
    "    \"age\": 20,\n",
    "    \"rating\": 4.5,\n",
    "    \"is_Active\": True,\n",
    "    \"tools\": [\"nmap\", \"burp suite\", \"wireshark\"]\n",
    "}\n",
    "print(dictionary)\n",
    "\n",
    "#make a loop to print all the keys and values of the dictionary with key and arrow\n",
    "for key, value in dictionary.items():\n",
    "    print(f\"{key} -> {value}\")\n",
    "    \n",
    "\n",
    "\n",
    "\n",
    "\n",
    "\n"
   ]
  },
  {
   "cell_type": "code",
   "execution_count": null,
   "id": "21b54ab4",
   "metadata": {},
   "outputs": [],
   "source": [
    "#loops in Python\n",
    "\n",
    "#using for loop to generate the right angled triangle * pattern\n",
    "for i in range(1, 6):\n",
    "    for j in range(1, i + 1):\n",
    "        print(\"*\", end=\"\")\n",
    "    print() \n",
    "\n",
    "\n",
    "n=5\n",
    "for i in range (1,n+1):\n",
    "    print(\"*\"*i)\n",
    "\n",
    "#inverted right angled triangle * pattern\n",
    "for i in range(n, 0, -1):\n",
    "    print(\"*\" * i)\n",
    "\n",
    "#pyramid pattern\n",
    "for i in range(1, n + 1):\n",
    "    print(\" \" * (n - i) + \"*\" * (2 * i - 1))      \n",
    "\n",
    "\"\"\"\n",
    "0\n",
    "1 0 \n",
    "0 1 0\n",
    "1 0 1 0\n",
    "0 1 0 1 0\n",
    "\"\"\"\n",
    "rows = int (input(\"Enter number of rows: \")) \n",
    "for i in range(1, rows + 1):  \n",
    "    for j in range(1, i + 1):\n",
    "        if (i + j) % 2 == 0:\n",
    "            print(\"0\", end=\" \")\n",
    "        else:\n",
    "            print(\"1\", end=\" \")\n",
    "    print()\n",
    "\n"
   ]
  },
  {
   "cell_type": "code",
   "execution_count": null,
   "id": "9dc904a0",
   "metadata": {},
   "outputs": [],
   "source": [
    "#function to calculate the area based on the user entered shape using switch case \n",
    "\n",
    "length = float (input (\"Enter the length of the square: \"))\n",
    "def square ():\n",
    "    area = length * length \n",
    "    print (area)\n",
    "square()\n",
    "\n",
    "\n",
    "\n",
    "\n",
    "\n",
    "\n",
    "\n"
   ]
  },
  {
   "cell_type": "code",
   "execution_count": null,
   "id": "3fac1722",
   "metadata": {},
   "outputs": [],
   "source": [
    "def calculate_area():\n",
    "    while True:\n",
    "        print(\"\\nEnter a shape to calculate area:\")\n",
    "        print(\"1. Square\")\n",
    "        print(\"2. Rectangle\")\n",
    "        print(\"3. Triangle\")\n",
    "        print(\"4. Circle\")\n",
    "        print(\"5. Exit\")\n",
    "\n",
    "        choose = input(\"Enter your choice (1-5): \")\n",
    "\n",
    "        match choose:\n",
    "            case \"1\":\n",
    "                length = float(input(\"Enter the length of the square: \"))\n",
    "                area = length * length\n",
    "                print(f\"Area of the square is {area:.2f}\")\n",
    "            case \"2\":\n",
    "                length = float(input(\"Enter the length: \"))\n",
    "                width = float(input(\"Enter the width: \"))\n",
    "                area = length * width\n",
    "                print(f\"Area of the rectangle is {area:.2f}\")\n",
    "            case \"3\":\n",
    "                base = float(input(\"Enter the base: \"))\n",
    "                height = float(input(\"Enter the height: \"))\n",
    "                area = 0.5 * base * height\n",
    "                print(f\"Area of the triangle is {area:.2f}\")\n",
    "            case \"4\":\n",
    "                radius = float(input(\"Enter the radius: \"))\n",
    "                area = 3.14159 * radius ** 2\n",
    "                print(f\"Area of the circle is {area:.2f}\")\n",
    "            case \"5\":\n",
    "                print(\"Exit\")\n",
    "                break\n",
    "            case _:\n",
    "                print(\"Invalid choice. Please enter a number between 1 and 5.\")\n",
    "\n",
    "calculate_area()"
   ]
  },
  {
   "cell_type": "markdown",
   "id": "89f6dcc3",
   "metadata": {},
   "source": [
    "## SKY IS ETHICAL HACKER"
   ]
  },
  {
   "cell_type": "code",
   "execution_count": null,
   "id": "8323041b",
   "metadata": {},
   "outputs": [],
   "source": [
    "#first words into letters (list)\n",
    "#then into uppercases\n",
    "#then commma seperated \n",
    "\n",
    "str=\"Sky is ethical hacker\"\n",
    "words = str.split(\" \")\n",
    "print(words)\n",
    "\n",
    "joined = \"->\".join(words)\n",
    "print(joined)\n",
    "\n",
    "print(str.upper())\n",
    "print(str.lower())\n",
    "\n",
    "\n",
    "\n"
   ]
  },
  {
   "cell_type": "markdown",
   "id": "b163fed2",
   "metadata": {},
   "source": [
    "Permutation and Combinations"
   ]
  },
  {
   "cell_type": "code",
   "execution_count": null,
   "id": "ac944025",
   "metadata": {},
   "outputs": [],
   "source": [
    "''' \n",
    "Factorial using recurssion\n",
    "'''\n",
    "n = int(input(\"Enter any number: \")) \n",
    "\n",
    "def fact(n):\n",
    "    if n == 0 or n == 1:\n",
    "        return 1\n",
    "    else:\n",
    "        return n * fact(n - 1)\n",
    "\n",
    "result = fact(n)\n",
    "print(f\"Factorial of {n} is {result}\")\n",
    "\n"
   ]
  },
  {
   "cell_type": "markdown",
   "id": "d4cb8776",
   "metadata": {},
   "source": [
    "## Iterative tool moduls: \n",
    "* Iterate tool module helps to generate permutation and combinations using nested loops\n",
    "* **product()** all possible combinations i.e. Cartesian product. It helps to generate multiple password combinations."
   ]
  },
  {
   "cell_type": "code",
   "execution_count": null,
   "id": "546b8304",
   "metadata": {},
   "outputs": [],
   "source": [
    "import itertools\n",
    "\n",
    "char = 'ab1'\n",
    "length = 8\n",
    "\n",
    "for combo in itertools.product(char, repeat=length):\n",
    "    print(''.join(combo))"
   ]
  },
  {
   "cell_type": "markdown",
   "id": "d168e8fc",
   "metadata": {},
   "source": [
    "# Password and Combinations\n",
    "\n",
    "| Charset                   | Size | Description                  |\n",
    "|---------------------------|------|------------------------------|\n",
    "| Digit only (0–9)          | 10   | Numbers from 0 to 9          |\n",
    "| Lowercase Char (a–z)      | 26   | Lowercase English letters    |\n",
    "| Uppercase Char (A–Z)      | 26   | Uppercase English letters    |\n",
    "| Alpha + Numeric           | 36   | a–z and 0–9                  |\n",
    "| AlphaNumeric + Uppercase | 62   | a–z, A–Z, and 0–9             |\n",
    "\n"
   ]
  },
  {
   "cell_type": "markdown",
   "id": "e691befd",
   "metadata": {},
   "source": [
    "# We are trying to attack the password then what can be the combinations\n",
    "\n"
   ]
  },
  {
   "cell_type": "markdown",
   "id": "0670d504",
   "metadata": {},
   "source": [
    "| Password Length | Character Set       | Set Size | Total Combinations      | Estimated Time          |\n",
    "|-----------------|---------------------|----------|--------------------------|--------------------------|\n",
    "| 3               | Digits (0–9)         | 10       | 10³ = 1,000              | 1 second                 |\n",
    "| 4               | Lowercase (a–z)      | 26       | 26⁴ = 456,976            | ~7.6 minutes             |\n",
    "| 5               | Lowercase (a–z)      | 26       | 26⁵ = 11,881,376         | ~3.3 hours               |\n",
    "| 6               | Lowercase (a–z)      | 26       | 26⁶ = 308,915,776        | ~3.6 days                |\n",
    "| 6               | Digits (0–9)         | 10       | 10⁶ = 1,000,000          | ~16.7 minutes            |\n",
    "| 6               | Alphanumeric (a–z,0–9) | 36     | 36⁶ = 2,176,782,336      | ~25 days                |\n",
    "| 6               | Lower + Upper (a–z, A–Z) | 52   | 52⁶ = 19,770,609,664     | ~229 days               |\n",
    "| 6               | All ASCII (a–z, A–Z, 0–9, symbols) | 95 | 95⁶ ≈ 735 billion | ~23 years               |\n",
    "| 7               | Lowercase (a–z)      | 26       | 26⁷ = 8,031,810,176      | ~93 days                |\n",
    "| 8               | Digits only (0–9)    | 10       | 10⁸ = 100,000,000        | ~27.8 hours             |\n",
    "| 8               | Lowercase (a–z)      | 26       | 26⁸ = 208,827,064,576    | ~6.6 years              |\n",
    "| 8               | Alphanumeric (a–z,0–9) | 36     | 36⁸ ≈ 2.8 trillion        | ~89 years               |\n",
    "| 8               | All ASCII (95 chars) | 95       | 95⁸ ≈ 6.6 quadrillion     | ~209,000 years          |\n",
    "| 10              | Digits (0–9)         | 10       | 10¹⁰ = 10,000,000,000    | ~115 days               |\n",
    "| 10              | Lowercase (a–z)      | 26       | 26¹⁰ ≈ 1.4 x 10¹⁴         | ~4,456 years            |\n",
    "| 10              | Alphanumeric         | 36       | 36¹⁰ ≈ 3.6 x 10¹⁵         | ~114,000 years          |\n",
    "| 10              | Full ASCII (95)      | 95       | 95¹⁰ ≈ 5.99 x 10¹⁹        | ~1.9 billion years      |"
   ]
  },
  {
   "cell_type": "code",
   "execution_count": null,
   "id": "3279555c",
   "metadata": {},
   "outputs": [
    {
     "name": "stdout",
     "output_type": "stream",
     "text": [
      "(1, 'sudip', 'Sud1p')\n",
      "(2, 'sudip', '1a02ed646d3298472e1c4ea97384e81063ab59c7ee05f8ac528ae1dc726b1da5')\n"
     ]
    }
   ],
   "source": [
    "from base64 import encode\n",
    "import mysql.connector\n",
    "import hashlib\n",
    "\n",
    "#connect to mysql\n",
    "conn = mysql.connector.connect(\n",
    "    host= \"localhost\",\n",
    "    user = \"root\",\n",
    "    password = \"\",\n",
    "    database = \"machinelearning\"\n",
    ")\n",
    "\n",
    "cur = conn.cursor()\n",
    "#cur.execute (\"SHOW DATABASES\")\n",
    "\n",
    "password='Sud1p'\n",
    "hashed= hashlib.sha256(password.encode()).hexdigest()\n",
    "cur.execute (\"INSERT INTO Users(UserName, Password) VALUES (%s, %s)\", ('sudip', hashed))\n",
    "conn.commit()\n",
    "\n",
    "cur.execute(\"SELECT * FROM Users\")\n",
    "\n",
    "for cursor in cur:\n",
    "    print(cursor)\n",
    "\n",
    "    "
   ]
  }
 ],
 "metadata": {
  "kernelspec": {
   "display_name": "Python 3",
   "language": "python",
   "name": "python3"
  },
  "language_info": {
   "codemirror_mode": {
    "name": "ipython",
    "version": 3
   },
   "file_extension": ".py",
   "mimetype": "text/x-python",
   "name": "python",
   "nbconvert_exporter": "python",
   "pygments_lexer": "ipython3",
   "version": "3.13.5"
  }
 },
 "nbformat": 4,
 "nbformat_minor": 5
}
