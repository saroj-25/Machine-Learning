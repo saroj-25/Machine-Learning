{
 "cells": [
  {
   "cell_type": "markdown",
   "id": "401ac86f",
   "metadata": {},
   "source": [
    "# Introduction to OpenCV\n",
    "## OpenCv is like  tools that leads computer to see and understand inpage/video just like human do\n",
    "\n",
    "\n",
    "### It provides feature like:\n",
    "- We can work with images and videos(read, write ,manipulate)\n",
    "- Image transformation(size,resize,reshape,blur and so on)\n",
    "- Detect edge,frame,face,and so on \n",
    "- works with real time video streaming (like from a webcam)\n",
    "- Build AI/ML application like (face recognization ,obj recognization,object detection etc using this library)\n",
    "\n",
    "### What we are doing?\n",
    "# - Image processing : Image load, resize , RGB-Grayscale\n",
    "- Color conversion\n",
    "- Draw a shape and objects\n",
    "- Filtering and bluring images\n",
    "- Edge detection\n",
    "- Threstholfing: erosion and dilation\n",
    "- video processing\n",
    "- saving the model \n"
   ]
  },
  {
   "cell_type": "code",
   "execution_count": 8,
   "id": "0a4147b2",
   "metadata": {},
   "outputs": [],
   "source": [
    "# Import and load Image\n",
    "import cv2\n",
    "\n",
    "#load your image\n",
    "img=cv2.imread(\"/media/manjil/Backup/Machine-Learning/Manjil/lion.jpeg\")\n",
    "#show image\n",
    "cv2.imshow(\"Original Image\",img)\n",
    "cv2.waitKey(0)\n",
    "cv2.destroyAllWindows()\n",
    "\n",
    "\n",
    "\n",
    "\n",
    "    "
   ]
  },
  {
   "cell_type": "code",
   "execution_count": 9,
   "id": "f748aac3",
   "metadata": {},
   "outputs": [
    {
     "data": {
      "text/plain": [
       "-1"
      ]
     },
     "execution_count": 9,
     "metadata": {},
     "output_type": "execute_result"
    }
   ],
   "source": [
    "# convert image to grayscale\n",
    "\n",
    "gray = cv2.cvtColor(img,cv2.COLOR_BGR2GRAY)\n",
    "cv2.imshow(\"GrayScale Image\", gray)\n",
    "cv2.waitKey(0)"
   ]
  },
  {
   "cell_type": "code",
   "execution_count": 10,
   "id": "b5513f06",
   "metadata": {},
   "outputs": [
    {
     "data": {
      "text/plain": [
       "-1"
      ]
     },
     "execution_count": 10,
     "metadata": {},
     "output_type": "execute_result"
    }
   ],
   "source": [
    "# resize image and crop inage\n",
    "resize= cv2.resize(img,(400,200))\n",
    "cv2.imshow(\"Rezize Image\",resize)\n",
    "cv2.waitKey(0)\n",
    "\n",
    "# cropped image\n",
    "cropped=img[50:200,100:300]\n",
    "cv2.imshow(\"cropped Image\",cropped)\n",
    "cv2.waitKey(0)\n"
   ]
  },
  {
   "cell_type": "code",
   "execution_count": 11,
   "id": "3512538a",
   "metadata": {},
   "outputs": [
    {
     "data": {
      "text/plain": [
       "-1"
      ]
     },
     "execution_count": 11,
     "metadata": {},
     "output_type": "execute_result"
    }
   ],
   "source": [
    "# Draw lines and shape inside image\n",
    "cv2.line(img, (50,50), (200,50),(255,0),3)\n",
    "\n",
    "cv2.rectangle(img,(50,100),(200,200),(255,0,0),2)\n",
    "\n",
    "cv2.circle(img, (300,20),50, (0,0,255),-1)\n",
    "\n",
    "cv2.putText(img,\"OpenCV Course\",(500,300), cv2.FONT_HERSHEY_SIMPLEX,1,(255,0,0),2)\n",
    "\n",
    "cv2.imshow(\"Shapes and Images\",img)\n",
    "cv2.waitKey(0)"
   ]
  },
  {
   "cell_type": "code",
   "execution_count": 12,
   "id": "d5caf004",
   "metadata": {},
   "outputs": [
    {
     "data": {
      "text/plain": [
       "-1"
      ]
     },
     "execution_count": 12,
     "metadata": {},
     "output_type": "execute_result"
    }
   ],
   "source": [
    "# blue the image\n",
    "blur=cv2.GaussianBlur(img,(15,15),0)\n",
    "cv2.imshow(\"Blurred Image\",blur)\n",
    "cv2.waitKey(0)"
   ]
  },
  {
   "cell_type": "code",
   "execution_count": 13,
   "id": "fd15654f",
   "metadata": {},
   "outputs": [
    {
     "data": {
      "text/plain": [
       "-1"
      ]
     },
     "execution_count": 13,
     "metadata": {},
     "output_type": "execute_result"
    }
   ],
   "source": [
    "# edge detection\n",
    "gray=cv2.resize(gray,(400,500))\n",
    "edges=cv2.Canny(gray,200,300)\n",
    "cv2.imshow(\"Canny Image\",edges)\n",
    "cv2.waitKey(0)\n"
   ]
  },
  {
   "cell_type": "code",
   "execution_count": 14,
   "id": "1682cd82",
   "metadata": {},
   "outputs": [
    {
     "data": {
      "text/plain": [
       "-1"
      ]
     },
     "execution_count": 14,
     "metadata": {},
     "output_type": "execute_result"
    }
   ],
   "source": [
    "_,binary=cv2.threshold(gray,127,255,cv2.THRESH_BINARY)\n",
    "cv2.imshow(\"Binary Thresthold\",binary)\n",
    "cv2.waitKey(0)"
   ]
  },
  {
   "cell_type": "code",
   "execution_count": 15,
   "id": "a9e0c69a",
   "metadata": {},
   "outputs": [
    {
     "data": {
      "text/plain": [
       "-1"
      ]
     },
     "execution_count": 15,
     "metadata": {},
     "output_type": "execute_result"
    }
   ],
   "source": [
    "\n",
    "# #morphological operation\n",
    "# import numpy as np\n",
    "# kernal=np.ones((5,5),np.uint8)\n",
    "# delation=cv2.dilate(binary,kernal,iterations=1)\n",
    "# erosion=cv2.erode(binary,kernal,iterations=1)\n",
    "\n",
    "# cv2.imshow(\"Dilation\",delation)\n",
    "# cv2.imshow(\"erosion\",erosion)\n",
    "# cv2.waitKey(0)\n",
    "\n",
    "\n",
    "\n",
    "# merphological operations\n",
    "\n",
    "import numpy as np\n",
    "import cv2\n",
    "kernal = np.ones((5,5), np.uint8)\n",
    "dilation = cv2.dilate(binary, kernal, iterations=1)\n",
    "erosion = cv2.erode(binary, kernal, iterations=1)\n",
    "\n",
    "cv2.imshow(\"Dilation\", dilation)\n",
    "cv2.imshow(\"Erosion\",erosion)\n",
    "cv2.waitKey(0)\n"
   ]
  },
  {
   "cell_type": "code",
   "execution_count": 22,
   "id": "c6292d08",
   "metadata": {},
   "outputs": [],
   "source": [
    "# face detection \n",
    "face_cascade = cv2.CascadeClassifier(cv2.data.haarcascades\n",
    "+\"haarcascade_frontalface_default.xml\")\n",
    "face_img = cv2.imread(\"elon.jpeg\")\n",
    "gray_face = cv2.cvtColor(face_img, cv2.COLOR_BGR2GRAY)\n",
    "faces = face_cascade.detectMultiScale(gray_face, 1.1, 5)\n",
    "\n",
    "# Draw rectangle around each face\n",
    "for (x, y, w, h) in faces:\n",
    "    cv2.rectangle(face_img, (x, y), (x+w, y+h), (0, 255, 0), 2)\n",
    "\n",
    "# Show result\n",
    "cv2.imshow(\"Face detection\", face_img)\n",
    "cv2.waitKey(0)\n",
    "cv2.destroyAllWindows()"
   ]
  },
  {
   "cell_type": "code",
   "execution_count": null,
   "id": "17866414",
   "metadata": {},
   "outputs": [],
   "source": [
    "\n",
    "# Video capture\n",
    "cap=cv2.VideoCapture(0)\n",
    "while True:\n",
    "    ret,frame=cap.read()\n",
    "    gray=cv2.cvtColor(frame,cv2.COLOR_BGR2GRAY)\n",
    "    cv2.imshow(\"Webcam\",gray)\n",
    "\n",
    "    if cv2.waitKey(1) & 0xFF==ord('q'):\n",
    "        break\n",
    "cap.release()\n",
    "cv2.destroyAllWindows()\n"
   ]
  },
  {
   "cell_type": "code",
   "execution_count": 29,
   "id": "17ffd593",
   "metadata": {},
   "outputs": [
    {
     "data": {
      "text/plain": [
       "True"
      ]
     },
     "execution_count": 29,
     "metadata": {},
     "output_type": "execute_result"
    }
   ],
   "source": [
    "# save\n",
    "cv2.imwrite(\"Output_gray.jpg\",gray)\n",
    "cv2.imwrite(\"edge.jpg\",edges)\n"
   ]
  },
  {
   "cell_type": "code",
   "execution_count": null,
   "id": "d63c1f46",
   "metadata": {},
   "outputs": [],
   "source": []
  }
 ],
 "metadata": {
  "kernelspec": {
   "display_name": "myenv",
   "language": "python",
   "name": "python3"
  },
  "language_info": {
   "codemirror_mode": {
    "name": "ipython",
    "version": 3
   },
   "file_extension": ".py",
   "mimetype": "text/x-python",
   "name": "python",
   "nbconvert_exporter": "python",
   "pygments_lexer": "ipython3",
   "version": "3.13.5"
  }
 },
 "nbformat": 4,
 "nbformat_minor": 5
}
