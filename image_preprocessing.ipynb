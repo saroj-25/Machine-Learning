{
 "cells": [
  {
   "cell_type": "markdown",
   "id": "4a6e6145",
   "metadata": {},
   "source": [
    "# Introduction to OpenCv\n",
    "### OpenCv is like a tool that leads computer to see and understand images/videos just like human do\n",
    "### It provides features like :\n",
    "    - We can work with images and videos(read, write , manipulate)\n",
    "    - Image transformation (size,resize,reshape,blur and so on)\n",
    "    - Detect edge, frame, face and so on \n",
    "    - IT works with real time video streaming (like from webcam)\n",
    "    - Build AI/Ml application like (face recognization , obj recognization , object detection etc using this library)\n",
    "\n",
    "### what we are doing?\n",
    " - Image preprocessing : Image load , resize , RGB-Grayscale\n",
    " - Color Conversions\n",
    " - Draw a shape and objects\n",
    " - Filtering and bluring images\n",
    " - Edge detection\n",
    " - Thresholding : erosion and dilation\n",
    " - Morphological Operations\n",
    " - Face detection\n",
    " - Video processing \n",
    " - Saving the model\n",
    " "
   ]
  },
  {
   "cell_type": "code",
   "execution_count": 1,
   "id": "fc29a3ce",
   "metadata": {},
   "outputs": [],
   "source": [
    "# Import and load image\n",
    "import cv2\n",
    "\n",
    "#load your image\n",
    "img=cv2.imread(\"image.jpg\")\n",
    "\n",
    "#show image\n",
    "cv2.imshow(\"Original Image\",img)\n",
    "cv2.waitKey(0)\n",
    "cv2.destroyAllWindows()"
   ]
  },
  {
   "cell_type": "code",
   "execution_count": 2,
   "id": "d2df4e15",
   "metadata": {},
   "outputs": [
    {
     "data": {
      "text/plain": [
       "-1"
      ]
     },
     "execution_count": 2,
     "metadata": {},
     "output_type": "execute_result"
    }
   ],
   "source": [
    "#convert image to grayscale\n",
    "gray=cv2.cvtColor(img,cv2.COLOR_BGR2GRAY)\n",
    "cv2.imshow(\"Grayscale image\", gray)\n",
    "cv2.waitKey(0)"
   ]
  },
  {
   "cell_type": "code",
   "execution_count": 3,
   "id": "cc82dcc5",
   "metadata": {},
   "outputs": [
    {
     "data": {
      "text/plain": [
       "-1"
      ]
     },
     "execution_count": 3,
     "metadata": {},
     "output_type": "execute_result"
    }
   ],
   "source": [
    "#Resize Image\n",
    "resized = cv2.resize(img,(400,200))\n",
    "cv2.imshow(\"Resized image :\",resized)\n",
    "cv2.waitKey(0)\n",
    "\n",
    "#crop image\n",
    "cropped = img[50:200,100:300]\n",
    "cv2.imshow(\"Cropped Image\",cropped)\n",
    "cv2.waitKey(0)"
   ]
  },
  {
   "cell_type": "code",
   "execution_count": 4,
   "id": "ae4e9d8d",
   "metadata": {},
   "outputs": [
    {
     "data": {
      "text/plain": [
       "-1"
      ]
     },
     "execution_count": 4,
     "metadata": {},
     "output_type": "execute_result"
    }
   ],
   "source": [
    "#drawing line and shapes\\\n",
    "cv2.line(img,(50,20),(200,50),(200,50),3)\n",
    "cv2.rectangle(img,(50,100),(200,50),(255,0,0),2)\n",
    "cv2.circle(img,(300,20),50,(0,0,255),-1)\n",
    "cv2.putText(img,\"OpenCV Course\",(500,300),cv2.FONT_ITALIC,1,(0,255,255),2)\n",
    "cv2.imshow(\"Shapes and Images\",img)\n",
    "cv2.waitKey(0)"
   ]
  },
  {
   "cell_type": "code",
   "execution_count": 5,
   "id": "0cc72e8f",
   "metadata": {},
   "outputs": [
    {
     "data": {
      "text/plain": [
       "-1"
      ]
     },
     "execution_count": 5,
     "metadata": {},
     "output_type": "execute_result"
    }
   ],
   "source": [
    "#blurring\n",
    "blur= cv2.GaussianBlur(img,(15,15),0)\n",
    "cv2.imshow(\"Blurred image\",blur)\n",
    "cv2.waitKey(0)"
   ]
  },
  {
   "cell_type": "code",
   "execution_count": 6,
   "id": "ac869826",
   "metadata": {},
   "outputs": [
    {
     "data": {
      "text/plain": [
       "-1"
      ]
     },
     "execution_count": 6,
     "metadata": {},
     "output_type": "execute_result"
    }
   ],
   "source": [
    "#Edge Detection\n",
    "edges=cv2.Canny(gray,100,200)\n",
    "cv2.imshow(\"Edges:\",edges)\n",
    "cv2.waitKey(0)"
   ]
  },
  {
   "cell_type": "code",
   "execution_count": 7,
   "id": "4da2e47f",
   "metadata": {},
   "outputs": [
    {
     "data": {
      "text/plain": [
       "-1"
      ]
     },
     "execution_count": 7,
     "metadata": {},
     "output_type": "execute_result"
    }
   ],
   "source": [
    "#image thresholding(Binary thresholding)\n",
    "_,binary=cv2.threshold(gray,127,255,cv2.THRESH_BINARY)\n",
    "cv2.imshow(\"threshold\",binary)\n",
    "cv2.waitKey(0)"
   ]
  },
  {
   "cell_type": "code",
   "execution_count": 8,
   "id": "14071e36",
   "metadata": {},
   "outputs": [
    {
     "data": {
      "text/plain": [
       "-1"
      ]
     },
     "execution_count": 8,
     "metadata": {},
     "output_type": "execute_result"
    }
   ],
   "source": [
    "#morphological operations\n",
    "import numpy as np\n",
    "kernel = np.ones((5,5),np.uint8)\n",
    "dilation = cv2.dilate(binary,kernel,iterations=1)\n",
    "erosion= cv2.erode(binary,kernel,iterations=1)\n",
    "cv2.imshow(\"Dilation\",dilation)\n",
    "cv2.imshow(\"Erosion\",erosion)\n",
    "cv2.waitKey(0)"
   ]
  },
  {
   "cell_type": "code",
   "execution_count": 9,
   "id": "e07f1476",
   "metadata": {},
   "outputs": [
    {
     "data": {
      "text/plain": [
       "-1"
      ]
     },
     "execution_count": 9,
     "metadata": {},
     "output_type": "execute_result"
    }
   ],
   "source": [
    "# Face detection\n",
    "face_cascade= cv2.CascadeClassifier(cv2.data.haarcascades+'haarcascade_frontalface_default.xml')\n",
    "face_img= cv2.imread(\"Elonmusk.jpg\")\n",
    "gray_face = cv2.cvtColor(face_img, cv2.COLOR_BGR2GRAY)\n",
    "\n",
    "faces= face_cascade.detectMultiScale(gray_face,1.1,5)\n",
    "\n",
    "for(x,y,w,h) in faces:\n",
    "    cv2.rectangle(face_img,(x,y),(x+w,y+h),(0,255,0),2)\n",
    "\n",
    "cv2.imshow(\"Face detection\",face_img)\n",
    "cv2.waitKey(0)    \n"
   ]
  },
  {
   "cell_type": "code",
   "execution_count": 10,
   "id": "488d83b8",
   "metadata": {},
   "outputs": [],
   "source": [
    "# video capture\n",
    "cap=cv2.VideoCapture(0)\n",
    "while True:\n",
    "    ret, frame = cap.read()\n",
    "    gray=cv2.cvtColor(frame,cv2.COLOR_BGR2GRAY)\n",
    "    cv2.imshow(\"webcam\",gray)\n",
    "\n",
    "    if cv2.waitKey(1)& 0xFF == ord('q'):\n",
    "        break\n",
    "cap.release()\n",
    "cv2.destroyAllWindows()"
   ]
  },
  {
   "cell_type": "code",
   "execution_count": 11,
   "id": "f4469d2a",
   "metadata": {},
   "outputs": [
    {
     "data": {
      "text/plain": [
       "True"
      ]
     },
     "execution_count": 11,
     "metadata": {},
     "output_type": "execute_result"
    }
   ],
   "source": [
    "# save\n",
    "\n",
    "cv2.imwrite(\"output_gray.jpg\",gray)\n",
    "cv2.imwrite(\"edges.jpg\",edges)\n"
   ]
  },
  {
   "cell_type": "code",
   "execution_count": null,
   "id": "b1d36277",
   "metadata": {},
   "outputs": [],
   "source": []
  }
 ],
 "metadata": {
  "kernelspec": {
   "display_name": "Python 3",
   "language": "python",
   "name": "python3"
  },
  "language_info": {
   "codemirror_mode": {
    "name": "ipython",
    "version": 3
   },
   "file_extension": ".py",
   "mimetype": "text/x-python",
   "name": "python",
   "nbconvert_exporter": "python",
   "pygments_lexer": "ipython3",
   "version": "3.12.3"
  }
 },
 "nbformat": 4,
 "nbformat_minor": 5
}
