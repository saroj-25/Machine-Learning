{
 "cells": [
  {
   "cell_type": "markdown",
   "id": "b1ceb278",
   "metadata": {},
   "source": [
    "# Module 1: Basics of Python and Ethical Hacking\n"
   ]
  },
  {
   "cell_type": "code",
   "execution_count": 2,
   "id": "2beb42dc",
   "metadata": {},
   "outputs": [
    {
     "name": "stdout",
     "output_type": "stream",
     "text": [
      "Hello World\n"
     ]
    }
   ],
   "source": [
    "print(\"Hello World\")"
   ]
  },
  {
   "cell_type": "markdown",
   "id": "ea127538",
   "metadata": {},
   "source": [
    "### Variables in Python\n",
    "\n",
    "\n"
   ]
  },
  {
   "cell_type": "code",
   "execution_count": 14,
   "id": "49feb6b3",
   "metadata": {},
   "outputs": [
    {
     "name": "stdout",
     "output_type": "stream",
     "text": [
      "Hacker\n",
      "Hacker 21 4.9 True ['nmap', 'wireshark', 'burp']\n",
      "Hacker\n",
      " 21\n",
      " 4.9\n",
      " True\n",
      " ['nmap', 'wireshark', 'burp']\n",
      "\n",
      "Hacker\n",
      "21\n",
      "4.9\n",
      "True\n",
      "['nmap', 'wireshark', 'burp']\n",
      "burp\n",
      "['nmap', 'wireshark', 'burp']\n",
      "3\n",
      "<class 'int'>\n",
      "name--> yunish\n",
      "age--> 20\n",
      "address--> chhabihil\n",
      "grade=--> 5\n"
     ]
    }
   ],
   "source": [
    "name= \"Hacker\"\n",
    "age= 21\n",
    "rating= 4.9\n",
    "is_Active= True\n",
    "\n",
    "tools= [\"nmap\", \"wireshark\", \"burp\"]\n",
    "\n",
    "result= name+str(age)\n",
    "print(name)\n",
    "\n",
    "print(name, age, rating, is_Active, tools)\n",
    "print(f\"{name}\\n {age}\\n {rating}\\n {is_Active}\\n {tools}\\n\")\n",
    "\n",
    "print(name, age, rating, is_Active, tools, sep= \"\\n\")   #new approach\n",
    "\n",
    "print(tools[-1])\n",
    "\n",
    "print(tools[0::])\n",
    "mytuple= (\"a\", 1, True, (\"a\", \"b\", \"c\"), [\"1\", 2], \"mango\", {\"name\": \"yunish\", \"grade\" : 9}, 3)\n",
    "print(mytuple[-1])\n",
    "print(type(mytuple[-1]))\n",
    "\n",
    "profile= {\"name\": \"yunish\",\n",
    "          \"age\": 20,\n",
    "          \"address\": \"chhabihil\",\n",
    "          \"grade=\": \"5\"\n",
    "\n",
    "}\n",
    "\n",
    "for x,y in profile.items():\n",
    "    print(f\"{x}--> {y}\")\n",
    "\n",
    "\n",
    "\n",
    "\n"
   ]
  },
  {
   "cell_type": "code",
   "execution_count": 4,
   "id": "6d6dd5bf",
   "metadata": {},
   "outputs": [
    {
     "name": "stdout",
     "output_type": "stream",
     "text": [
      "*\n",
      "**\n",
      "***\n",
      "****\n",
      "*****\n"
     ]
    }
   ],
   "source": [
    "#loops in python\n",
    "\n",
    "#right angled triangle\n",
    "n= 5\n",
    "for i in range(1, n+1):\n",
    "    print(\"*\"*i)"
   ]
  },
  {
   "cell_type": "code",
   "execution_count": 6,
   "id": "9f23125f",
   "metadata": {},
   "outputs": [
    {
     "name": "stdout",
     "output_type": "stream",
     "text": [
      "*****\n",
      "****\n",
      "***\n",
      "**\n",
      "*\n"
     ]
    }
   ],
   "source": [
    "n= 5\n",
    "for i in range(n, 0, -1):\n",
    "    print(\"*\"*i)"
   ]
  },
  {
   "cell_type": "code",
   "execution_count": 13,
   "id": "7d04db93",
   "metadata": {},
   "outputs": [
    {
     "name": "stdout",
     "output_type": "stream",
     "text": [
      "    *\n",
      "   ***\n",
      "  *****\n",
      " *******\n"
     ]
    }
   ],
   "source": [
    "#pyramid\n",
    "n=5\n",
    "for i in range(1,n ):\n",
    "    print(\" \"*(n-i)+\"*\"*(2*i-1))"
   ]
  },
  {
   "cell_type": "code",
   "execution_count": 15,
   "id": "7149eadf",
   "metadata": {},
   "outputs": [
    {
     "name": "stdout",
     "output_type": "stream",
     "text": [
      "0\n",
      "10\n",
      "010\n",
      "1010\n",
      "01010\n"
     ]
    }
   ],
   "source": [
    "n= 5\n",
    "for x in range(1, n+1):\n",
    "    for y in range(x):\n",
    "        if (x%2==0):\n",
    "            print(f\"{(y+1)%2}\", end= \"\")\n",
    "        else:\n",
    "            print(f\"{y%2}\", end= \"\")\n",
    "    print(\"\")\n"
   ]
  },
  {
   "cell_type": "code",
   "execution_count": 16,
   "id": "d26efddf",
   "metadata": {},
   "outputs": [
    {
     "name": "stdout",
     "output_type": "stream",
     "text": [
      "9\n"
     ]
    }
   ],
   "source": [
    "square= lambda x: x*x\n",
    "\n",
    "x= int(input(\"Enter the length:\"))\n",
    "area= square(x)\n",
    "print(area)"
   ]
  },
  {
   "cell_type": "code",
   "execution_count": 28,
   "id": "be61c8ea",
   "metadata": {},
   "outputs": [
    {
     "name": "stdout",
     "output_type": "stream",
     "text": [
      "1: Rectangle\n",
      "2: circle\n",
      "3.: square\n",
      "4: Exit\n"
     ]
    }
   ],
   "source": [
    "mydict= {\n",
    "    \"1\": \"Rectangle\",\n",
    "    \"2\": \"circle\",\n",
    "    \"3.\": \"square\",\n",
    "    \"4\": \"Exit\"}\n",
    "\n",
    "for key, value in mydict.items():\n",
    "    print(f\"{key}: {value}\")\n",
    "\n",
    "\n",
    "def rectangle():\n",
    "    user1= int(input(\"Enter the value of Length: \"))\n",
    "    user2= int(input(\"Enter the value of breadth\"))\n",
    "    print(user1*user2)\n",
    "\n",
    "def square():\n",
    "    user1= int(input(\"Enter the value of Length: \"))\n",
    "    print(user1*user1)\n",
    "\n",
    "def circle():\n",
    "    user1= int(input(\"Enter the value of radius: \"))\n",
    "    print(3.14*user1*user1)\n",
    "\n",
    "while True:\n",
    "    shape= int(input(\"Enter the shape: \"))\n",
    "    if shape==1:\n",
    "        rectangle()\n",
    "        continue\n",
    "    elif shape==2:\n",
    "        circle()\n",
    "        continue\n",
    "    elif shape==3:\n",
    "        rectangle()\n",
    "        continue\n",
    "    elif shape==4:\n",
    "        break\n",
    "    else:\n",
    "        print(\"Please choose 1-4\")\n",
    "        continue\n",
    "\n",
    "\n"
   ]
  },
  {
   "cell_type": "code",
   "execution_count": 38,
   "id": "d16b6079",
   "metadata": {},
   "outputs": [
    {
     "name": "stdout",
     "output_type": "stream",
     "text": [
      "['I', 'am', 'Ethical', 'Hacker']\n",
      "['I', 'AM', 'ETHICAL', 'HACKER']\n",
      "I>AM>ETHICAL>HACKER\n"
     ]
    }
   ],
   "source": [
    "word=\"I am Ethical Hacker\"\n",
    "world2= word.split(\" \")\n",
    "print(world2)\n",
    "word1=[]\n",
    "\n",
    "word5= [x.upper() for x in world2]\n",
    "print(word5)\n",
    "print(\">\".join(word5))\n",
    "\n",
    "\n",
    "    \n"
   ]
  },
  {
   "cell_type": "code",
   "execution_count": 3,
   "id": "4a1b58d1",
   "metadata": {},
   "outputs": [
    {
     "name": "stdout",
     "output_type": "stream",
     "text": [
      "120\n"
     ]
    }
   ],
   "source": [
    "def factorial(n):\n",
    "    if n==0 or n==1:\n",
    "        return 1\n",
    "    else:\n",
    "        return n*factorial(n-1)\n",
    "\n",
    "user= int(input(\"Enter number\"))\n",
    "result=factorial(user)\n",
    "print(result)"
   ]
  },
  {
   "cell_type": "markdown",
   "id": "c59c9053",
   "metadata": {},
   "source": [
    "# Permutation and Combination\n",
    "\n",
    "## Itertool module\n",
    "- Iterate tool module helps to generate permutations and combinations using nested loops\n",
    "- **product()** returns all possible combinations ie. Cartesian Product. It helps to generate multiple password combination"
   ]
  },
  {
   "cell_type": "code",
   "execution_count": 7,
   "id": "0344450b",
   "metadata": {},
   "outputs": [
    {
     "name": "stdout",
     "output_type": "stream",
     "text": [
      "aaa\n",
      "aab\n",
      "aac\n",
      "aad\n",
      "aae\n",
      "aaf\n",
      "aba\n",
      "abb\n",
      "abc\n",
      "abd\n",
      "abe\n",
      "abf\n",
      "aca\n",
      "acb\n",
      "acc\n",
      "acd\n",
      "ace\n",
      "acf\n",
      "ada\n",
      "adb\n",
      "adc\n",
      "add\n",
      "ade\n",
      "adf\n",
      "aea\n",
      "aeb\n",
      "aec\n",
      "aed\n",
      "aee\n",
      "aef\n",
      "afa\n",
      "afb\n",
      "afc\n",
      "afd\n",
      "afe\n",
      "aff\n",
      "baa\n",
      "bab\n",
      "bac\n",
      "bad\n",
      "bae\n",
      "baf\n",
      "bba\n",
      "bbb\n",
      "bbc\n",
      "bbd\n",
      "bbe\n",
      "bbf\n",
      "bca\n",
      "bcb\n",
      "bcc\n",
      "bcd\n",
      "bce\n",
      "bcf\n",
      "bda\n",
      "bdb\n",
      "bdc\n",
      "bdd\n",
      "bde\n",
      "bdf\n",
      "bea\n",
      "beb\n",
      "bec\n",
      "bed\n",
      "bee\n",
      "bef\n",
      "bfa\n",
      "bfb\n",
      "bfc\n",
      "bfd\n",
      "bfe\n",
      "bff\n",
      "caa\n",
      "cab\n",
      "cac\n",
      "cad\n",
      "cae\n",
      "caf\n",
      "cba\n",
      "cbb\n",
      "cbc\n",
      "cbd\n",
      "cbe\n",
      "cbf\n",
      "cca\n",
      "ccb\n",
      "ccc\n",
      "ccd\n",
      "cce\n",
      "ccf\n",
      "cda\n",
      "cdb\n",
      "cdc\n",
      "cdd\n",
      "cde\n",
      "cdf\n",
      "cea\n",
      "ceb\n",
      "cec\n",
      "ced\n",
      "cee\n",
      "cef\n",
      "cfa\n",
      "cfb\n",
      "cfc\n",
      "cfd\n",
      "cfe\n",
      "cff\n",
      "daa\n",
      "dab\n",
      "dac\n",
      "dad\n",
      "dae\n",
      "daf\n",
      "dba\n",
      "dbb\n",
      "dbc\n",
      "dbd\n",
      "dbe\n",
      "dbf\n",
      "dca\n",
      "dcb\n",
      "dcc\n",
      "dcd\n",
      "dce\n",
      "dcf\n",
      "dda\n",
      "ddb\n",
      "ddc\n",
      "ddd\n",
      "dde\n",
      "ddf\n",
      "dea\n",
      "deb\n",
      "dec\n",
      "ded\n",
      "dee\n",
      "def\n",
      "dfa\n",
      "dfb\n",
      "dfc\n",
      "dfd\n",
      "dfe\n",
      "dff\n",
      "eaa\n",
      "eab\n",
      "eac\n",
      "ead\n",
      "eae\n",
      "eaf\n",
      "eba\n",
      "ebb\n",
      "ebc\n",
      "ebd\n",
      "ebe\n",
      "ebf\n",
      "eca\n",
      "ecb\n",
      "ecc\n",
      "ecd\n",
      "ece\n",
      "ecf\n",
      "eda\n",
      "edb\n",
      "edc\n",
      "edd\n",
      "ede\n",
      "edf\n",
      "eea\n",
      "eeb\n",
      "eec\n",
      "eed\n",
      "eee\n",
      "eef\n",
      "efa\n",
      "efb\n",
      "efc\n",
      "efd\n",
      "efe\n",
      "eff\n",
      "faa\n",
      "fab\n",
      "fac\n",
      "fad\n",
      "fae\n",
      "faf\n",
      "fba\n",
      "fbb\n",
      "fbc\n",
      "fbd\n",
      "fbe\n",
      "fbf\n",
      "fca\n",
      "fcb\n",
      "fcc\n",
      "fcd\n",
      "fce\n",
      "fcf\n",
      "fda\n",
      "fdb\n",
      "fdc\n",
      "fdd\n",
      "fde\n",
      "fdf\n",
      "fea\n",
      "feb\n",
      "fec\n",
      "fed\n",
      "fee\n",
      "fef\n",
      "ffa\n",
      "ffb\n",
      "ffc\n",
      "ffd\n",
      "ffe\n",
      "fff\n"
     ]
    }
   ],
   "source": [
    "import itertools\n",
    "\n",
    "char= 'abcdef'\n",
    "length= 3\n",
    "for combo in itertools.product(char, repeat= length):\n",
    "    print(\"\".join(combo))"
   ]
  },
  {
   "cell_type": "markdown",
   "id": "18c59e96",
   "metadata": {},
   "source": [
    "# Passwords and combination\n",
    "|Charset          | Size          |\n",
    "|-----------------|---------------|\n",
    "|Digit Only       | 10            |\n",
    "|lower Char (a-z) | 26            |\n",
    "|lower Char| (a-z)| 26            |\n",
    "|Alpha+ Numeric   | 36(a-z + 0-9) |\n",
    "|AlphaNumeric + Uppercase| 62 ()  |"
   ]
  },
  {
   "cell_type": "markdown",
   "id": "89301d57",
   "metadata": {},
   "source": [
    "# We are trying to attack the password then what can be the combinations\n",
    "| Password Length | Character Set       | Set Size | Total Combinations      | Estimated Time          |\n",
    "|-----------------|---------------------|----------|--------------------------|--------------------------|\n",
    "| 3               | Digits (0–9)         | 10       | 10³ = 1,000              | 1 second                 |\n",
    "| 4               | Lowercase (a–z)      | 26       | 26⁴ = 456,976            | ~7.6 minutes             |\n",
    "| 5               | Lowercase (a–z)      | 26       | 26⁵ = 11,881,376         | ~3.3 hours               |\n",
    "| 6               | Lowercase (a–z)      | 26       | 26⁶ = 308,915,776        | ~3.6 days                |\n",
    "| 6               | Digits (0–9)         | 10       | 10⁶ = 1,000,000          | ~16.7 minutes            |\n",
    "| 6               | Alphanumeric (a–z,0–9) | 36     | 36⁶ = 2,176,782,336      | ~25 days                |\n",
    "| 6               | Lower + Upper (a–z, A–Z) | 52   | 52⁶ = 19,770,609,664     | ~229 days               |\n",
    "| 6               | All ASCII (a–z, A–Z, 0–9, symbols) | 95 | 95⁶ ≈ 735 billion | ~23 years               |\n",
    "| 7               | Lowercase (a–z)      | 26       | 26⁷ = 8,031,810,176      | ~93 days                |\n",
    "| 8               | Digits only (0–9)    | 10       | 10⁸ = 100,000,000        | ~27.8 hours             |\n",
    "| 8               | Lowercase (a–z)      | 26       | 26⁸ = 208,827,064,576    | ~6.6 years              |\n",
    "| 8               | Alphanumeric (a–z,0–9) | 36     | 36⁸ ≈ 2.8 trillion        | ~89 years               |\n",
    "| 8               | All ASCII (95 chars) | 95       | 95⁸ ≈ 6.6 quadrillion     | ~209,000 years          |\n",
    "| 10              | Digits (0–9)         | 10       | 10¹⁰ = 10,000,000,000    | ~115 days               |\n",
    "| 10              | Lowercase (a–z)      | 26       | 26¹⁰ ≈ 1.4 x 10¹⁴         | ~4,456 years            |\n",
    "| 10              | Alphanumeric         | 36       | 36¹⁰ ≈ 3.6 x 10¹⁵         | ~114,000 years          |\n",
    "| 10              | Full ASCII (95)      | 95       | 95¹⁰ ≈ 5.99 x 10¹⁹        | ~1.9 billion years      |\n"
   ]
  },
  {
   "cell_type": "code",
   "execution_count": null,
   "id": "4a410da8",
   "metadata": {},
   "outputs": [],
   "source": [
    "import mysql.connector \n",
    "import hashlib\n",
    "from base64 import encode\n",
    "\n",
    "#connect to mysql\n",
    "connection = mysql.connector.connect(\n",
    "    host= \"localhost\",\n",
    "    user= \"root\",\n",
    "    password= \"\",\n",
    "    database= \"MachineLearning\"\n",
    ")\n",
    "\n",
    "cur = connection.cursor()\n",
    "# cur.execute(\"SHOW DATABASES\")\n",
    "# for cursor in cur:\n",
    "#     print(cursor)\n",
    "password= \"yunish155\"\n",
    "hashed_password=hashlib.sha256(password.encode()).hexdigest()   #used to hashed the given password(for encryption)\n",
    "\n",
    "\n",
    "cur.execute(\"Insert into users(username, password) values (%s, %s)\", ('yunish5',hashed_password ))\n",
    "connection.commit()\n"
   ]
  },
  {
   "cell_type": "code",
   "execution_count": null,
   "id": "d8c4bed1",
   "metadata": {},
   "outputs": [],
   "source": []
  }
 ],
 "metadata": {
  "kernelspec": {
   "display_name": "Python 3",
   "language": "python",
   "name": "python3"
  },
  "language_info": {
   "codemirror_mode": {
    "name": "ipython",
    "version": 3
   },
   "file_extension": ".py",
   "mimetype": "text/x-python",
   "name": "python",
   "nbconvert_exporter": "python",
   "pygments_lexer": "ipython3",
   "version": "3.13.1"
  }
 },
 "nbformat": 4,
 "nbformat_minor": 5
}
