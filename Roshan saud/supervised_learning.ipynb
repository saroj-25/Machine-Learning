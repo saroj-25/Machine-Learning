{
 "cells": [
  {
   "cell_type": "markdown",
   "id": "edb1218e",
   "metadata": {},
   "source": [
    "# Machine learning \n",
    "1. Supervised machine learning\n",
    "2. Unsupervised\n",
    "3. Reinforcement\n",
    "\n",
    "\n",
    "1. Supervised Machine learning\n",
    "    - Supervised learning learns from the labeled dataset\n",
    "    **Types**\n",
    "    - Classification : Yes/No\n",
    "    - Regression : Actual value \n",
    "      "
   ]
  },
  {
   "cell_type": "code",
   "execution_count": null,
   "id": "8ea70a3b",
   "metadata": {},
   "outputs": [],
   "source": [
    "\n"
   ]
  }
 ],
 "metadata": {
  "language_info": {
   "name": "python"
  }
 },
 "nbformat": 4,
 "nbformat_minor": 5
}
