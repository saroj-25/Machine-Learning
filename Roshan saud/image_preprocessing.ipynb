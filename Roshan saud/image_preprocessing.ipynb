{
 "cells": [
  {
   "cell_type": "markdown",
   "id": "9ca10692",
   "metadata": {},
   "source": [
    "# Introduction to OpenCV\n",
    "\n",
    "### OpenCv is like a tool that leads computer to see and understand images/videos just like human do\n",
    "\n",
    "### It provides features like:\n",
    "    - We can work with images and video(read, write, manupulate)\n",
    "    - Image tranformation(size, resize, reshape, blur, and so on)\n",
    "    - Detect edge, frame, face and so on\n",
    "    - It works with real time video streaming(like from a webcam)\n",
    "    - Build AI/ML applications like (face recognization, obj recognization, object detection etc using this library)\n",
    "\n",
    "\n",
    "### What we are doing?\n",
    "    - Image processing: Image load, resize, and color RGB->Grayscale\n",
    "    - Color conversions\n",
    "    - Draw a shape and objects \n",
    "    - Filtering and bluring images\n",
    "    - Egde detection \n",
    "    - Thresholding: erosion and dilation\n",
    "    - Morphological operations\n",
    "    - Face detection\n",
    "    - Video processing \n",
    "    - Saving the model"
   ]
  },
  {
   "cell_type": "code",
   "execution_count": 1,
   "id": "47332b6d",
   "metadata": {},
   "outputs": [],
   "source": [
    "import cv2\n",
    "\n",
    "# load image\n",
    "img = cv2.imread(\"lion.jpeg\")\n",
    "\n",
    "# show image\n",
    "cv2.imshow(\"lion image\", img)\n",
    "cv2.waitKey(0)  # capital K\n",
    "cv2.destroyAllWindows()"
   ]
  },
  {
   "cell_type": "code",
   "execution_count": 2,
   "id": "e121781a",
   "metadata": {},
   "outputs": [
    {
     "data": {
      "text/plain": [
       "-1"
      ]
     },
     "execution_count": 2,
     "metadata": {},
     "output_type": "execute_result"
    }
   ],
   "source": [
    "# Convert to gray scale\n",
    "gray = cv2.cvtColor(img, cv2.COLOR_BGR2GRAY)\n",
    "cv2.imshow(\"Gray Scale image\", gray)\n",
    "cv2.waitKey(0)"
   ]
  },
  {
   "cell_type": "code",
   "execution_count": 3,
   "id": "e39253b3",
   "metadata": {},
   "outputs": [
    {
     "data": {
      "text/plain": [
       "-1"
      ]
     },
     "execution_count": 3,
     "metadata": {},
     "output_type": "execute_result"
    }
   ],
   "source": [
    "# Resize and crop image\n",
    "\n",
    "#Resize image\n",
    "resized = cv2.resize(img, (400, 300))\n",
    "cv2.imshow(\"Resized image\",resized)\n",
    "cv2.waitKey(0)\n",
    "\n",
    "# Crop image\n",
    "cropped = img[50:200, 100:300]\n",
    "cv2.imshow(\"Cropped image\",cropped)\n",
    "cv2.waitKey(0)"
   ]
  },
  {
   "cell_type": "code",
   "execution_count": 4,
   "id": "45b1b843",
   "metadata": {},
   "outputs": [],
   "source": [
    "import cv2\n",
    "\n",
    "# Resize (if needed)\n",
    "img = cv2.resize(img, (700, 800))\n",
    "\n",
    "# Draw a line\n",
    "cv2.line(img, (50, 50), (200, 50), (255, 0, 0), 3)\n",
    "\n",
    "# Draw a rectangle\n",
    "cv2.rectangle(img, (50, 100), (200, 200), (0, 255, 0), 2)\n",
    "\n",
    "# Draw a circle\n",
    "cv2.circle(img, (100, 100), 40, (0, 0, 255), -1)\n",
    "\n",
    "# Add text\n",
    "cv2.putText(img, \"OpenCV course\", (400, 300),cv2.FONT_HERSHEY_SIMPLEX, 1, (0,0, 0), 2)\n",
    "\n",
    "# Show the result\n",
    "cv2.imshow(\"Shapes and Images\", img)\n",
    "cv2.waitKey(0)\n",
    "cv2.destroyAllWindows()\n"
   ]
  },
  {
   "cell_type": "code",
   "execution_count": 5,
   "id": "095fcf98",
   "metadata": {},
   "outputs": [
    {
     "data": {
      "text/plain": [
       "-1"
      ]
     },
     "execution_count": 5,
     "metadata": {},
     "output_type": "execute_result"
    }
   ],
   "source": [
    "# blur the image\n",
    "blur = cv2.GaussianBlur(img, (15,15), 0)\n",
    "cv2.imshow(\"Blur image\",blur)\n",
    "cv2.waitKey(0)"
   ]
  },
  {
   "cell_type": "code",
   "execution_count": 14,
   "id": "712705fd",
   "metadata": {},
   "outputs": [
    {
     "data": {
      "text/plain": [
       "-1"
      ]
     },
     "execution_count": 14,
     "metadata": {},
     "output_type": "execute_result"
    }
   ],
   "source": [
    "# Egdes detection\n",
    "gray = cv2.resize(gray, (550, 500))\n",
    "egdes = cv2.Canny(gray, 100, 200)\n",
    "cv2.imshow(\"Edges\", egdes)\n",
    "cv2.waitKey(0)"
   ]
  },
  {
   "cell_type": "code",
   "execution_count": 7,
   "id": "a95bed2a",
   "metadata": {},
   "outputs": [],
   "source": [
    "# Image thresholding(Binary)\n",
    "ret, binary = cv2.threshold(gray, 127, 255, cv2.THRESH_BINARY)\n",
    "\n",
    "# Show only the binary image\n",
    "cv2.imshow(\"Binary thresholding\", binary)\n",
    "cv2.waitKey(0)\n",
    "cv2.destroyAllWindows()\n"
   ]
  },
  {
   "cell_type": "code",
   "execution_count": 8,
   "id": "763d98db",
   "metadata": {},
   "outputs": [
    {
     "data": {
      "text/plain": [
       "-1"
      ]
     },
     "execution_count": 8,
     "metadata": {},
     "output_type": "execute_result"
    }
   ],
   "source": [
    "# Merophological operation\n",
    "import numpy as np\n",
    "kernal = np.ones((5,5), np.uint8)\n",
    "dilation = cv2.dilate(binary, kernal, iterations=1)\n",
    "erosion = cv2.erode(binary, kernal, iterations=1)\n",
    "\n",
    "cv2.imshow(\"Dilation\", dilation)\n",
    "cv2.imshow(\"erosion\", erosion)\n",
    "cv2.waitKey(0)"
   ]
  },
  {
   "cell_type": "code",
   "execution_count": 9,
   "id": "1cda8c6e",
   "metadata": {},
   "outputs": [],
   "source": [
    "# face detection \n",
    "face_cascade = cv2.CascadeClassifier(cv2.data.haarcascades +\n",
    "                                      \"haarcascade_frontalface_default.xml\")\n",
    "face_img = cv2.imread(\"Elon.jpeg\")\n",
    "gray_face = cv2.cvtColor(face_img, cv2.COLOR_BGR2GRAY)\n",
    "faces = face_cascade.detectMultiScale(gray_face, 1.1, 5)\n",
    "\n",
    "# Draw rectangle around each face\n",
    "for (x, y, w, h) in faces:\n",
    "    cv2.rectangle(face_img, (x, y), (x+w, y+h), (0, 255, 0), 2)\n",
    "\n",
    "# Show result\n",
    "cv2.imshow(\"Face detection\", face_img)\n",
    "cv2.waitKey(0)\n",
    "cv2.destroyAllWindows()"
   ]
  },
  {
   "cell_type": "code",
   "execution_count": 12,
   "id": "da1cffaf",
   "metadata": {},
   "outputs": [],
   "source": [
    "# Video capture\n",
    "\n",
    "cap = cv2.VideoCapture(0)\n",
    "\n",
    "while True:\n",
    "    ret, frame = cap.read()\n",
    "    gray = cv2.cvtColor(frame, cv2.COLOR_BGR2GRAY)\n",
    "    cv2.imshow(\"Web came\", gray)\n",
    "    if cv2.waitKey(1) & 0xFF == ord('q'):\n",
    "        break\n",
    "\n",
    "cap.release()\n",
    "cv2.destroyAllWindows()"
   ]
  },
  {
   "cell_type": "code",
   "execution_count": 13,
   "id": "7b831077",
   "metadata": {},
   "outputs": [
    {
     "data": {
      "text/plain": [
       "True"
      ]
     },
     "execution_count": 13,
     "metadata": {},
     "output_type": "execute_result"
    }
   ],
   "source": [
    "# save\n",
    "cv2.imwrite(\"output_gray.jpg\", gray)\n",
    "cv2.imwrite(\"egdes.jpg\", egdes)"
   ]
  }
 ],
 "metadata": {
  "kernelspec": {
   "display_name": "base",
   "language": "python",
   "name": "python3"
  },
  "language_info": {
   "codemirror_mode": {
    "name": "ipython",
    "version": 3
   },
   "file_extension": ".py",
   "mimetype": "text/x-python",
   "name": "python",
   "nbconvert_exporter": "python",
   "pygments_lexer": "ipython3",
   "version": "3.13.5"
  }
 },
 "nbformat": 4,
 "nbformat_minor": 5
}
