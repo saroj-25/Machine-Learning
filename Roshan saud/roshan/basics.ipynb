{
 "cells": [
  {
   "cell_type": "markdown",
   "id": "64e898cb",
   "metadata": {},
   "source": [
    "# Module1 : Basics of Python and Ethical Hacking  "
   ]
  },
  {
   "cell_type": "code",
   "execution_count": 2,
   "id": "ab37d421",
   "metadata": {},
   "outputs": [
    {
     "name": "stdout",
     "output_type": "stream",
     "text": [
      "Hellow world\n"
     ]
    }
   ],
   "source": [
    "print(\"Hellow world\")"
   ]
  },
  {
   "cell_type": "markdown",
   "id": "70804c68",
   "metadata": {},
   "source": [
    "### Variables in python"
   ]
  },
  {
   "cell_type": "code",
   "execution_count": 1,
   "id": "7b3a4182",
   "metadata": {},
   "outputs": [
    {
     "name": "stdout",
     "output_type": "stream",
     "text": [
      "name Roshan\n",
      "age 21\n",
      "Mark 99.9\n",
      "is_active False\n"
     ]
    }
   ],
   "source": [
    "name = \"Hacker\"\n",
    "age = 21\n",
    "rating = 4.9\n",
    "is_Active = True \n",
    "\n",
    "tools = [\"nmap\", \"wireshack\", \"brup\"]\n",
    "\n",
    "result = name+str(age)\n",
    "# print(result)\n",
    "\n",
    "# print(f\"{name}\\n {age}\\n {rating}\\n {is_Active}\\n {tools}\")\n",
    "# print(name, age, rating, is_Active, tools, sep=\"\\n\")\n",
    "\n",
    "# print(tools[-1])\n",
    "# print(tools[::-1])\n",
    "# print(tools[::])\n",
    "\n",
    "# mytuple = (1, 1.1, \"Roshan\", True, \"python\", [\"Roshan\", 27, \"Texas\"], False)\n",
    "# print(mytuple[-1])\n",
    "# print(type(mytuple[-1]))\n",
    "\n",
    "profile = {\n",
    " \"name\" : \"Roshan\",\n",
    " \"age\": 21,\n",
    " \"Mark\" : 99.9,\n",
    " \"is_active\": False\n",
    "}\n",
    "\n",
    "# for prof in profile.items():\n",
    "#     print(prof)\n",
    "\n",
    "for x,y in profile.items():\n",
    "    print(x,y)"
   ]
  },
  {
   "cell_type": "markdown",
   "id": "64d6d35e",
   "metadata": {},
   "source": [
    "# Loops in python"
   ]
  },
  {
   "cell_type": "code",
   "execution_count": 44,
   "id": "ddc3f204",
   "metadata": {},
   "outputs": [
    {
     "name": "stdout",
     "output_type": "stream",
     "text": [
      "*\n",
      "**\n",
      "***\n",
      "****\n"
     ]
    }
   ],
   "source": [
    "for x in range(1,5):\n",
    "      print(\"*\"*x)"
   ]
  },
  {
   "cell_type": "markdown",
   "id": "6d1f405f",
   "metadata": {},
   "source": []
  },
  {
   "cell_type": "code",
   "execution_count": null,
   "id": "55c426b5",
   "metadata": {},
   "outputs": [
    {
     "name": "stdout",
     "output_type": "stream",
     "text": [
      "*****\n",
      "****\n",
      "***\n",
      "**\n",
      "*\n"
     ]
    }
   ],
   "source": [
    "n = 5\n",
    "y = 1\n",
    "for x in range(1,n+1,y):\n",
    "      print(\"*\"*(n+1-y))\n",
    "      y = y+1\n",
    "      \n"
   ]
  },
  {
   "cell_type": "code",
   "execution_count": 21,
   "id": "6ebb0fa7",
   "metadata": {},
   "outputs": [
    {
     "name": "stdout",
     "output_type": "stream",
     "text": [
      "*****\n",
      "****\n",
      "***\n",
      "**\n",
      "*\n"
     ]
    }
   ],
   "source": [
    "n = 5\n",
    "for x in range(n,0,-1):\n",
    "      print(\"*\"*x)"
   ]
  },
  {
   "cell_type": "code",
   "execution_count": 43,
   "id": "d851f3f7",
   "metadata": {},
   "outputs": [
    {
     "name": "stdout",
     "output_type": "stream",
     "text": [
      "    *\n",
      "   ***\n",
      "  *****\n",
      " *******\n",
      "*********\n"
     ]
    }
   ],
   "source": [
    "n = 5\n",
    "for x in range(1,n+1):\n",
    "    print(\" \"*(n-x)+\"*\"*(2*x-1))"
   ]
  },
  {
   "cell_type": "code",
   "execution_count": 41,
   "id": "95b98baf",
   "metadata": {},
   "outputs": [
    {
     "name": "stdout",
     "output_type": "stream",
     "text": [
      "    *\n",
      "   ***\n",
      "  *****\n",
      " *******\n",
      "*********\n",
      "*********\n",
      " *******\n",
      "  *****\n",
      "   ***\n",
      "    *\n"
     ]
    }
   ],
   "source": [
    "n = 5\n",
    "for x in range(1,n+1):\n",
    "    print(\" \"*(n-x)+\"*\"*(2*x-1))\n",
    "for x in range(n,0,-1):\n",
    "    print(\" \"*(n-x)+\"*\"*(2*x-1))"
   ]
  },
  {
   "cell_type": "code",
   "execution_count": 70,
   "id": "448622cc",
   "metadata": {},
   "outputs": [
    {
     "name": "stdout",
     "output_type": "stream",
     "text": [
      "1\n",
      "01\n",
      "101\n",
      "0101\n",
      "10101\n"
     ]
    }
   ],
   "source": [
    "# Binary Hacker Triangle \n",
    "\n",
    "n = 5\n",
    "for x in range(1,n+1):\n",
    "      for y in range(x):\n",
    "            if(x%2==0):\n",
    "              print(f\"{y%2}\",end=\"\")\n",
    "            else:\n",
    "              print(f\"{(y+1)%2}\",end=\"\")\n",
    "      print(\"\")\n"
   ]
  },
  {
   "cell_type": "code",
   "execution_count": null,
   "id": "a7819bde",
   "metadata": {},
   "outputs": [
    {
     "name": "stdout",
     "output_type": "stream",
     "text": [
      "0\n",
      "10\n",
      "010\n",
      "1010\n",
      "01010\n"
     ]
    }
   ],
   "source": [
    "# Binary Hacker Triangle \n",
    "for x in range(1,n+1):\n",
    "      for y in range(x):\n",
    "            if(x%2==0):\n",
    "              print(f\"{(y+1)%2}\",end=\"\")\n",
    "            else:\n",
    "              print(f\"{(y)%2}\",end=\"\")\n",
    "      print(\"\")"
   ]
  },
  {
   "cell_type": "code",
   "execution_count": 81,
   "id": "25e5bbd9",
   "metadata": {},
   "outputs": [
    {
     "name": "stdout",
     "output_type": "stream",
     "text": [
      "0\n",
      "10\n",
      "010\n",
      "1010\n",
      "01010\n"
     ]
    }
   ],
   "source": [
    "for x in range(1,n+1):\n",
    "      for y in range(x):\n",
    "            print(f\"{(x+y+1)%2}\", end=\"\")\n",
    "      print(\"\")"
   ]
  },
  {
   "cell_type": "code",
   "execution_count": null,
   "id": "17d8997d",
   "metadata": {},
   "outputs": [
    {
     "name": "stdout",
     "output_type": "stream",
     "text": [
      "Area : 12\n",
      "Area : None\n",
      "Area : None\n"
     ]
    }
   ],
   "source": [
    "def area(y):\n",
    "    if y == \"square\".lower():\n",
    "        l =  int(input(\"Enter length\"))\n",
    "        return l*l\n",
    "    elif y == \"rectangle\".lower():\n",
    "        l =  int(input(\"Enter length: \"))\n",
    "        b = int(input(\"Enter breadth: \"))\n",
    "        return l*b\n",
    "    elif y == \"circle\".lower():\n",
    "        l =  int(input(\"Enter radius: \"))\n",
    "        return 3.14*l*l\n",
    "    elif y == \"traingle\".lower():\n",
    "        h = int(input(\"Input height: \"))\n",
    "        b =  int(input(\"Enter length\"))\n",
    "        return (0.5*b*h)\n",
    "    else: \n",
    "        print(\"Please, Enter shape name properly\")\n",
    "        return\n",
    "    \n",
    "    \n",
    "\n",
    "y = input(\"which shapes area you want(e: exit): \")\n",
    "while True:\n",
    "    if y == \"e\":\n",
    "        break\n",
    "    else:\n",
    "        result = area(y)\n",
    "        print(f\"Area : {result}\")\n",
    "    y = input(\"which shapes area you want(e: exit): \")\n",
    "\n",
    "\n"
   ]
  },
  {
   "cell_type": "code",
   "execution_count": 24,
   "id": "c00b93e5",
   "metadata": {},
   "outputs": [
    {
     "name": "stdout",
     "output_type": "stream",
     "text": [
      "i\n",
      "aM\n",
      "Ethical\n",
      "Hacker\n",
      "I AM ETHICAL HACKER\n",
      "i am ethical hacker\n",
      "I am ethical hacker\n",
      "i->aM->Ethical->Hacker\n"
     ]
    }
   ],
   "source": [
    "str = \"i aM Ethical Hacker\"\n",
    "words = str.split()\n",
    "for word in words:\n",
    "    print(word)\n",
    "print(str.upper())\n",
    "print(str.lower())\n",
    "print(str.capitalize())\n",
    "print(\"->\".join(words))\n",
    "\n"
   ]
  },
  {
   "cell_type": "code",
   "execution_count": 2,
   "id": "cc111224",
   "metadata": {},
   "outputs": [
    {
     "name": "stdout",
     "output_type": "stream",
     "text": [
      "120\n"
     ]
    }
   ],
   "source": [
    "# nPr = n!/(n-r)! - Order matter\n",
    "# nCr = n!/(r! * (n-r)!) - Order doesn't matter \n",
    "def facto(x):\n",
    "    if x==0 or x==1:\n",
    "        return 1\n",
    "    else:\n",
    "        return x*facto(x-1)\n",
    "\n",
    "x = int(input(\"Enter value: \"))\n",
    "print(facto(x))"
   ]
  },
  {
   "cell_type": "markdown",
   "id": "a629df94",
   "metadata": {},
   "source": [
    "# Permutation and Combination\n",
    "\n",
    "## Itertool module:\n",
    " - Iterate tool module helps to generate permutation and combination using nested loops\n",
    " - product() -> All possible combinations (i.e Cartesian product). It helps to generate mulitple password combinations\n",
    " "
   ]
  },
  {
   "cell_type": "code",
   "execution_count": 1,
   "id": "560bda7c",
   "metadata": {},
   "outputs": [
    {
     "name": "stdout",
     "output_type": "stream",
     "text": [
      "a a\n",
      "a b\n",
      "a c\n",
      "b a\n",
      "b b\n",
      "b c\n",
      "c a\n",
      "c b\n",
      "c c\n"
     ]
    }
   ],
   "source": [
    "import itertools \n",
    "\n",
    "char = \"abc\"\n",
    "length = 2\n",
    "\n",
    "\n",
    "for combo in itertools.product(char, repeat=length):\n",
    "    print(' '.join(combo))\n"
   ]
  },
  {
   "cell_type": "markdown",
   "id": "a9c77597",
   "metadata": {},
   "source": [
    "# Password and Combinations\n",
    "\n",
    "| Charset                | Size | Description                      |\n",
    "|------------------------|------|----------------------------------|\n",
    "| Digit only (0–9)       | 10   | Numbers 0 through 9              |\n",
    "| Lowercase Char (a–z)   | 26   | Lowercase English letters        |\n",
    "| Uppercase Char (A–Z)   | 26   | Uppercase English letters        |\n",
    "| Alpha + Numeric        | 36   | Lowercase letters + digits (a–z, 0–9) |\n",
    "| AlphaNumeric + Numeric | 62   | Uppercase + lowercase + digits (A–Z, a–z, 0–9) |\n",
    "\n",
    "\n"
   ]
  },
  {
   "cell_type": "markdown",
   "id": "95e61fdc",
   "metadata": {},
   "source": [
    "### We are trying to attack the password them what can be the combinations\n",
    "| Password Length | Character Set       | Set Size | Total Combinations      | Estimated Time          |\n",
    "|-----------------|---------------------|----------|--------------------------|--------------------------|\n",
    "| 3               | Digits (0–9)         | 10       | 10³ = 1,000              | 1 second                 |\n",
    "| 4               | Lowercase (a–z)      | 26       | 26⁴ = 456,976            | ~7.6 minutes             |\n",
    "| 5               | Lowercase (a–z)      | 26       | 26⁵ = 11,881,376         | ~3.3 hours               |\n",
    "| 6               | Lowercase (a–z)      | 26       | 26⁶ = 308,915,776        | ~3.6 days                |\n",
    "| 6               | Digits (0–9)         | 10       | 10⁶ = 1,000,000          | ~16.7 minutes            |\n",
    "| 6               | Alphanumeric (a–z,0–9) | 36     | 36⁶ = 2,176,782,336      | ~25 days                |\n",
    "| 6               | Lower + Upper (a–z, A–Z) | 52   | 52⁶ = 19,770,609,664     | ~229 days               |\n",
    "| 6               | All ASCII (a–z, A–Z, 0–9, symbols) | 95 | 95⁶ ≈ 735 billion | ~23 years               |\n",
    "| 7               | Lowercase (a–z)      | 26       | 26⁷ = 8,031,810,176      | ~93 days                |\n",
    "| 8               | Digits only (0–9)    | 10       | 10⁸ = 100,000,000        | ~27.8 hours             |\n",
    "| 8               | Lowercase (a–z)      | 26       | 26⁸ = 208,827,064,576    | ~6.6 years              |\n",
    "| 8               | Alphanumeric (a–z,0–9) | 36     | 36⁸ ≈ 2.8 trillion        | ~89 years               |\n",
    "| 8               | All ASCII (95 chars) | 95       | 95⁸ ≈ 6.6 quadrillion     | ~209,000 years          |\n",
    "| 10              | Digits (0–9)         | 10       | 10¹⁰ = 10,000,000,000    | ~115 days               |\n",
    "| 10              | Lowercase (a–z)      | 26       | 26¹⁰ ≈ 1.4 x 10¹⁴         | ~4,456 years            |\n",
    "| 10              | Alphanumeric         | 36       | 36¹⁰ ≈ 3.6 x 10¹⁵         | ~114,000 years          |\n",
    "| 10              | Full ASCII (95)      | 95       | 95¹⁰ ≈ 5.99 x 10¹⁹        | ~1.9 billion years      |"
   ]
  },
  {
   "cell_type": "code",
   "execution_count": 1,
   "id": "fa9672ec",
   "metadata": {},
   "outputs": [],
   "source": [
    "from base64 import encode\n",
    "import mysql.connector\n",
    "import hashlib\n",
    "\n",
    "# connect to mysql\n",
    "conn = mysql.connector.connect(\n",
    "    host=\"localhost\",\n",
    "    user=\"root\",\n",
    "    password=\"password\",\n",
    "    database=\"MachineLearning\"\n",
    ")\n",
    "\n",
    "\n",
    "cur=conn.cursor()\n",
    "# cur.execute(\"SHOW DATABASES\")\n",
    "# conn.commit()\n",
    "password='roshan@12'\n",
    "hased_pass =hashlib.sha256(password.encode()).hexdigest()\n",
    "cur.execute(\"INSERT INTO Users(UserName, Password) VALUES(%s, %s)\", ('Roshan', hased_pass))\n",
    "conn.commit()\n",
    "\n"
   ]
  },
  {
   "cell_type": "code",
   "execution_count": null,
   "id": "4f1e6f66",
   "metadata": {},
   "outputs": [],
   "source": []
  }
 ],
 "metadata": {
  "kernelspec": {
   "display_name": "Python 3",
   "language": "python",
   "name": "python3"
  },
  "language_info": {
   "codemirror_mode": {
    "name": "ipython",
    "version": 3
   },
   "file_extension": ".py",
   "mimetype": "text/x-python",
   "name": "python",
   "nbconvert_exporter": "python",
   "pygments_lexer": "ipython3",
   "version": "3.13.5"
  }
 },
 "nbformat": 4,
 "nbformat_minor": 5
}
