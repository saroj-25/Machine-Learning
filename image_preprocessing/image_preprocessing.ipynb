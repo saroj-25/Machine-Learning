{
 "cells": [
  {
   "cell_type": "markdown",
   "id": "fe2b0ba4",
   "metadata": {},
   "source": [
    "# Introduction to OpenCV\n",
    "\n",
    "### OpenCV is ike a tool that leads computer to see and understand images/videos just like human do \n",
    "\n",
    "### It provides features like:\n",
    "    - We can work with images and videos(read, write, maipulate)\n",
    "    - Image transformation (size, resize, reshape, blur and so on)\n",
    "    - Detect edge, frame, face and so on\n",
    "    - Works with real time video streaming( like from webcam)\n",
    "    - Build AI/ML applications like( face recognization, obj recognization etc using this library)\n",
    "\n",
    "### What we are doing?\n",
    "    - Image processing: Image load, resize,RGB -Grayscale\n",
    "    - Color conversions\\\n",
    "    - Draw a shape and objects\n",
    "    - Filtering and bluring images\n",
    "    - Thresholding : erosion and dilation\n",
    "    - Morphological operations\n",
    "    - Face detection\n",
    "    - Video processing\n",
    "    - Saving the model"
   ]
  },
  {
   "cell_type": "code",
   "execution_count": 1,
   "id": "d50f4540",
   "metadata": {},
   "outputs": [],
   "source": [
    "# Import and load image\n",
    "import cv2\n",
    "\n",
    "#load you image\n",
    "img = cv2.imread(\"lion.jpg\")\n",
    "\n",
    "img = cv2.imshow(\"original image\", img)\n",
    "cv2.waitKey(0)\n",
    "cv2.destroyAllWindows()\n"
   ]
  },
  {
   "cell_type": "code",
   "execution_count": 2,
   "id": "1df0a0a7",
   "metadata": {},
   "outputs": [
    {
     "data": {
      "text/plain": [
       "-1"
      ]
     },
     "execution_count": 2,
     "metadata": {},
     "output_type": "execute_result"
    }
   ],
   "source": [
    "# convert image to grayscale\n",
    "\n",
    "img = cv2.imread(\"lion.jpg\")\n",
    "gray = cv2.cvtColor(img, cv2.COLOR_BGR2GRAY)\n",
    "cv2.imshow(\"Grayscale image\", gray)\n",
    "cv2.waitKey(0)"
   ]
  },
  {
   "cell_type": "code",
   "execution_count": 3,
   "id": "4dfa7fc2",
   "metadata": {},
   "outputs": [
    {
     "data": {
      "text/plain": [
       "-1"
      ]
     },
     "execution_count": 3,
     "metadata": {},
     "output_type": "execute_result"
    }
   ],
   "source": [
    "#Resize image\n",
    "resized = cv2.resize(img,(400,200))\n",
    "cv2.imshow(\"Resized Image\", resized)\n",
    "cv2.waitKey(0)\n",
    "\n",
    "#cropimage\n",
    "cropped = img[100:200, 100:300]\n",
    "cv2.imshow(\"cropped Image\", cropped)\n",
    "cv2.waitKey(0)"
   ]
  },
  {
   "cell_type": "code",
   "execution_count": 4,
   "id": "8eb2bcb5",
   "metadata": {},
   "outputs": [
    {
     "data": {
      "text/plain": [
       "-1"
      ]
     },
     "execution_count": 4,
     "metadata": {},
     "output_type": "execute_result"
    }
   ],
   "source": [
    "#draw lines and shape inside image\n",
    "\n",
    "cv2.line(img, (50,50),(200,50),(255,0),3)\n",
    "\n",
    "cv2.rectangle(img, (50,100),(200,200),(255,0,0),2)\n",
    "\n",
    "cv2.circle(img, (300,20),50,(0,0,55))\n",
    "\n",
    "cv2.putText(img, \"OpenCV Course\", (500,300), cv2.FONT_HERSHEY_SIMPLEX, 1, (0,125,10), 2)\n",
    "\n",
    "cv2.imshow(\"Shapes and Images\", img)\n",
    "cv2.waitKey(0)\n",
    "\n",
    "\n",
    "\n",
    "\n",
    "\n",
    "\n"
   ]
  },
  {
   "cell_type": "code",
   "execution_count": 5,
   "id": "5c5641ea",
   "metadata": {},
   "outputs": [],
   "source": [
    "#blur the image\n",
    "import cv2\n",
    "img = cv2.imread(\"lion.jpg\")\n",
    "blur = cv2.GaussianBlur(img, (15, 15), 0)\n",
    "cv2.imshow(\"Blurred Image\", blur)\n",
    "cv2.waitKey(0)\n",
    "cv2.destroyAllWindows()"
   ]
  },
  {
   "cell_type": "code",
   "execution_count": 6,
   "id": "84eaa108",
   "metadata": {},
   "outputs": [
    {
     "data": {
      "text/plain": [
       "-1"
      ]
     },
     "execution_count": 6,
     "metadata": {},
     "output_type": "execute_result"
    }
   ],
   "source": [
    "#Edge detection\n",
    "\n",
    "edges = cv2.Canny(gray,100,200)\n",
    "cv2.imshow(\"Canny Edges\", edges)\n",
    "cv2.waitKey(0)"
   ]
  },
  {
   "cell_type": "code",
   "execution_count": 7,
   "id": "0386a284",
   "metadata": {},
   "outputs": [
    {
     "data": {
      "text/plain": [
       "-1"
      ]
     },
     "execution_count": 7,
     "metadata": {},
     "output_type": "execute_result"
    }
   ],
   "source": [
    "#Image thresholding (Binary)\n",
    "\n",
    "_,binary = cv2.threshold(gray, 129 , 255,cv2.THRESH_BINARY)\n",
    "cv2.imshow(\"Binary THreshold\",binary)\n",
    "cv2.waitKey(0)\n"
   ]
  },
  {
   "cell_type": "code",
   "execution_count": 10,
   "id": "b44e8c57",
   "metadata": {},
   "outputs": [
    {
     "data": {
      "text/plain": [
       "-1"
      ]
     },
     "execution_count": 10,
     "metadata": {},
     "output_type": "execute_result"
    }
   ],
   "source": [
    "#merphological operations\n",
    "import numpy as np\n",
    "# Convert image to grayscale if not already done\n",
    "img = cv2.imread(\"lion.jpg\")\n",
    "gray = cv2.cvtColor(img, cv2.COLOR_BGR2GRAY)\n",
    "\n",
    "# Ensure binary is defined\n",
    "_, binary = cv2.threshold(gray, 129, 255, cv2.THRESH_BINARY)\n",
    "kernel = np.ones((5, 5), np.uint8)\n",
    "dilation = cv2.dilate(binary, kernel, iterations=1)\n",
    "erosion = cv2.erode(binary, kernel, iterations=1)\n",
    "cv2.imshow(\"Dilation\", dilation)\n",
    "cv2.imshow(\"Erosion\", erosion)\n",
    "cv2.waitKey(0)"
   ]
  },
  {
   "cell_type": "code",
   "execution_count": 11,
   "id": "9162037b",
   "metadata": {},
   "outputs": [
    {
     "data": {
      "text/plain": [
       "-1"
      ]
     },
     "execution_count": 11,
     "metadata": {},
     "output_type": "execute_result"
    }
   ],
   "source": [
    "#face detection \n",
    "import cv2\n",
    "face_cascade = cv2.CascadeClassifier(cv2.data.haarcascades+\"haarcascade_frontalface_default.xml\")\n",
    "\n",
    "face_img = cv2.imread(\"person.jpg\")\n",
    "gray_face = cv2.cvtColor(face_img,cv2.COLOR_BGR2GRAY)\n",
    "\n",
    "faces = face_cascade.detectMultiScale(gray_face,1.1,5)\n",
    "\n",
    "for(x,y,w,h) in faces:\n",
    "    cv2.rectangle(face_img,(x,y),(x+w,y+h),(0,255,0),2)\n",
    "\n",
    "cv2.imshow(\"Face Detection\", face_img)\n",
    "cv2.waitKey(0)\n"
   ]
  },
  {
   "cell_type": "code",
   "execution_count": 12,
   "id": "5713933f",
   "metadata": {},
   "outputs": [],
   "source": [
    "# Video capture\n",
    "\n",
    "cap = cv2.VideoCapture(0)\n",
    "\n",
    "while True:\n",
    "    ret, frame = cap.read()\n",
    "    gray = cv2.cvtColor(frame, cv2.COLOR_BGR2GRAY)\n",
    "\n",
    "    cv2.imshow(\"Webcam\",gray)\n",
    "\n",
    "    if cv2.waitKey(1) & 0xFF == ord('q'):\n",
    "        break\n",
    "cap.release()\n",
    "cv2.destroyAllWindows()"
   ]
  },
  {
   "cell_type": "code",
   "execution_count": 13,
   "id": "a2547cba",
   "metadata": {},
   "outputs": [
    {
     "data": {
      "text/plain": [
       "True"
      ]
     },
     "execution_count": 13,
     "metadata": {},
     "output_type": "execute_result"
    }
   ],
   "source": [
    "# save \n",
    "\n",
    "cv2.imwrite(\"Output_gray.jpg\", gray)\n",
    "edges = cv2.Canny(gray, 100, 200)\n",
    "cv2.imwrite(\"edges.jpg\", edges)\n"
   ]
  }
 ],
 "metadata": {
  "kernelspec": {
   "display_name": ".venv (3.13.2)",
   "language": "python",
   "name": "python3"
  },
  "language_info": {
   "codemirror_mode": {
    "name": "ipython",
    "version": 3
   },
   "file_extension": ".py",
   "mimetype": "text/x-python",
   "name": "python",
   "nbconvert_exporter": "python",
   "pygments_lexer": "ipython3",
   "version": "3.13.2"
  }
 },
 "nbformat": 4,
 "nbformat_minor": 5
}
