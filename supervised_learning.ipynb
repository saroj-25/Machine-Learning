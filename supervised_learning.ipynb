{
 "cells": [
  {
   "cell_type": "markdown",
   "id": "f5163f35",
   "metadata": {},
   "source": [
    "# machine learning\n",
    "1. Supervised machine learning\n",
    "2. unsupervised\n",
    "3. Reinforcement\n",
    "\n",
    "\n",
    "    1. Supervised Machine learning\n",
    "    - supervised learning from the labeled dataset\n",
    "   \n",
    "    **Types**\n",
    "    - Classification : Yes/No\n",
    "    - Regression: Actual value"
   ]
  },
  {
   "cell_type": "code",
   "execution_count": null,
   "id": "fefee3d2",
   "metadata": {
    "vscode": {
     "languageId": "plaintext"
    }
   },
   "outputs": [],
   "source": []
  },
  {
   "cell_type": "code",
   "execution_count": null,
   "id": "0ea6983b",
   "metadata": {
    "vscode": {
     "languageId": "plaintext"
    }
   },
   "outputs": [],
   "source": []
  }
 ],
 "metadata": {
  "language_info": {
   "name": "python"
  }
 },
 "nbformat": 4,
 "nbformat_minor": 5
}
