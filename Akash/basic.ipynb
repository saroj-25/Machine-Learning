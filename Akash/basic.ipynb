{
 "cells": [
  {
   "cell_type": "markdown",
   "id": "7ef3d4c1",
   "metadata": {},
   "source": [
    "# MOUDULE 1 : Basics of Python and Ethical Hacking"
   ]
  },
  {
   "cell_type": "code",
   "execution_count": null,
   "id": "45e39b94",
   "metadata": {},
   "outputs": [
    {
     "name": "stdout",
     "output_type": "stream",
     "text": [
      "Hello World\n"
     ]
    }
   ],
   "source": [
    "print(\"Hello World\")"
   ]
  },
  {
   "cell_type": "markdown",
   "id": "5ef1ba50",
   "metadata": {},
   "source": [
    "## Variables in Python "
   ]
  },
  {
   "cell_type": "code",
   "execution_count": 25,
   "id": "ae1207a7",
   "metadata": {},
   "outputs": [
    {
     "name": "stdout",
     "output_type": "stream",
     "text": [
      "Linux 21 4.9 True ['nmap', 'wiresha', 'brup']\n",
      "Linux\n",
      "21\n",
      "4.9\n",
      "True\n",
      "['nmap', 'wiresha', 'brup']\n",
      "['brup', 'wiresha', 'nmap']\n",
      "['nmap', 'wiresha', 'brup']\n",
      "AAAA\n"
     ]
    }
   ],
   "source": [
    "name =\"Linux\"\n",
    "age = 21\n",
    "rating = 4.9\n",
    "isActive = True\n",
    "tools=[\"nmap\", \"wiresha\", \"brup\"]\n",
    "\n",
    "print(name,age,rating, isActive, tools)\n",
    "print(name,age,rating, isActive, tools, sep=\"\\n\")\n",
    "\n",
    "\n",
    "# print(f\"{name}\\n{age}\\n{rating}\\n{isActive}\\n{tools}\\n\")\n",
    "# print(tools[-1])\n",
    "print(tools[::-1])\n",
    "print(tools[::])\n",
    "\n",
    "\n",
    "tupule1 =(\"akash\",32, True ,\"ak\",[1,2,3],\"AAAA\")\n",
    "print(tupule1[-1])\n",
    "\n",
    "\n",
    "\n",
    "\n"
   ]
  },
  {
   "cell_type": "code",
   "execution_count": 31,
   "id": "1dec9502",
   "metadata": {},
   "outputs": [
    {
     "name": "stdout",
     "output_type": "stream",
     "text": [
      "Linux -> Akash\n",
      "21 -> 21\n"
     ]
    }
   ],
   "source": [
    "value={\n",
    "    name:\"Akash\",\n",
    "    age:21,\n",
    "    # grade:\"A\",\n",
    "\n",
    "}\n",
    "#   print(value)\n",
    "for key in value:\n",
    "    print(key ,\"->\", value[key])"
   ]
  },
  {
   "cell_type": "code",
   "execution_count": 81,
   "id": "b69def46",
   "metadata": {},
   "outputs": [
    {
     "ename": "TypeError",
     "evalue": "can only concatenate tuple (not \"int\") to tuple",
     "output_type": "error",
     "traceback": [
      "\u001b[0;31m---------------------------------------------------------------------------\u001b[0m",
      "\u001b[0;31mTypeError\u001b[0m                                 Traceback (most recent call last)",
      "Cell \u001b[0;32mIn[81], line 26\u001b[0m\n\u001b[1;32m      1\u001b[0m \u001b[38;5;66;03m#loop in python\u001b[39;00m\n\u001b[1;32m      2\u001b[0m \u001b[38;5;66;03m#right angled triangle * pattern \u001b[39;00m\n\u001b[1;32m      3\u001b[0m \u001b[38;5;66;03m# *\u001b[39;00m\n\u001b[0;32m   (...)\u001b[0m\n\u001b[1;32m     23\u001b[0m \n\u001b[1;32m     24\u001b[0m \u001b[38;5;66;03m# row=int(input(\"Enter the row value:\"))\u001b[39;00m\n\u001b[1;32m     25\u001b[0m n\u001b[38;5;241m=\u001b[39m\u001b[38;5;241m5\u001b[39m,\n\u001b[0;32m---> 26\u001b[0m \u001b[38;5;28;01mfor\u001b[39;00m i \u001b[38;5;129;01min\u001b[39;00m \u001b[38;5;28mrange\u001b[39m (\u001b[38;5;241m1\u001b[39m,\u001b[43mn\u001b[49m\u001b[38;5;241;43m+\u001b[39;49m\u001b[38;5;241;43m1\u001b[39;49m):\n\u001b[1;32m     27\u001b[0m     \u001b[38;5;28;01mfor\u001b[39;00m j \u001b[38;5;129;01min\u001b[39;00m \u001b[38;5;28mrange\u001b[39m(\u001b[38;5;241m1\u001b[39m,i\u001b[38;5;241m+\u001b[39m\u001b[38;5;241m1\u001b[39m):\n\u001b[1;32m     28\u001b[0m         \u001b[38;5;28mprint\u001b[39m((i\u001b[38;5;241m+\u001b[39mj)\u001b[38;5;241m%\u001b[39m \u001b[38;5;241m2\u001b[39m,end\u001b[38;5;241m=\u001b[39m\u001b[38;5;124m\"\u001b[39m\u001b[38;5;124m \u001b[39m\u001b[38;5;124m\"\u001b[39m)\n",
      "\u001b[0;31mTypeError\u001b[0m: can only concatenate tuple (not \"int\") to tuple"
     ]
    }
   ],
   "source": [
    "#loop in python\n",
    "#right angled triangle * pattern \n",
    "# *\n",
    "# **\n",
    "# ***\n",
    "# ****\n",
    "\n",
    "\n",
    "# n=5\n",
    "# for i in range(1,n):\n",
    "#     print(\"*\"*i)\n",
    "\n",
    "\n",
    "# n=5\n",
    "# for i in range(n,0,-1):\n",
    "\n",
    "#     print(\"*\"*i)\n",
    "\n",
    "# n=4\n",
    "# for i in range(1,n):\n",
    "#     print (\" \"*(n-i)+\"*\"*(2*i -1))\n",
    "    \n",
    "\n",
    "# row=int(input(\"Enter the row value:\"))\n",
    "n=5,\n",
    "for i in range (1,n+1):\n",
    "    for j in range(1,i+1):\n",
    "        print((i+j)% 2,end=\" \")\n",
    "        print()\n",
    "\n",
    "\n",
    "\n",
    "\n",
    "\n",
    "  \n"
   ]
  },
  {
   "cell_type": "code",
   "execution_count": 79,
   "id": "ebea21b0",
   "metadata": {},
   "outputs": [
    {
     "data": {
      "text/plain": [
       "16"
      ]
     },
     "execution_count": 79,
     "metadata": {},
     "output_type": "execute_result"
    }
   ],
   "source": [
    "#functions in python \n",
    "n=int(input(\"Enter the required number:\"))\n",
    "def area(n):\n",
    "    a=n*n\n",
    "    return(a)\n",
    "\n",
    "area(n)\n",
    "\n",
    "\n",
    "\n"
   ]
  },
  {
   "cell_type": "code",
   "execution_count": 124,
   "id": "e5a6ddb8",
   "metadata": {},
   "outputs": [
    {
     "name": "stdout",
     "output_type": "stream",
     "text": [
      " 1.Circle 2.Square 3.Rectangle 4.Exit\n",
      "the area is12.64\n",
      " 1.Circle 2.Square 3.Rectangle 4.Exit\n"
     ]
    }
   ],
   "source": [
    "def calcCircle(r):\n",
    "    return(3.16*r*r)\n",
    "def calcSquare(n):\n",
    "    return (n*n)\n",
    "def calcRectangle(l,b):\n",
    "    return(l*b)\n",
    "def exit():\n",
    "    return 0\n",
    "\n",
    "while True:\n",
    "    print(\" 1.Circle 2.Square 3.Rectangle 4.Exit\")\n",
    "    block=int(input(\"Enter the value which one do you want to calculate area:\"))\n",
    "\n",
    "    if (block ==1):\n",
    "        r=float(input(\"Enter the value:\"))\n",
    "        a=calcCircle(r)\n",
    "        print(f\"the area is{a}\")\n",
    "    elif(block ==2):\n",
    "        n=float(input(\"Enter the value:\"))\n",
    "        b=calcSquare(n)\n",
    "        print(f\"the area is{b}\")\n",
    "\n",
    "    elif(block ==3):\n",
    "        l=float(input(\"Enter the value:\"))\n",
    "        b=float(input(\"Enter the value:\"))\n",
    "\n",
    "        c=calcRectangle(l,b)\n",
    "        print(f\"the area is{c}\")\n",
    "    else:\n",
    "        \n",
    "        exit()\n",
    "        break\n",
    "\n",
    "\n"
   ]
  },
  {
   "cell_type": "code",
   "execution_count": 99,
   "id": "77ffd062",
   "metadata": {},
   "outputs": [],
   "source": [
    "#args and kwargs\n",
    "\n"
   ]
  },
  {
   "cell_type": "code",
   "execution_count": 108,
   "id": "ded4040b",
   "metadata": {},
   "outputs": [
    {
     "name": "stdout",
     "output_type": "stream",
     "text": [
      "['I', 'am', 'Ethical', 'hacker']\n",
      "I->am->Ethical->hacker\n",
      "I AM ETHICAL HACKER\n",
      "i am ethical hacker\n"
     ]
    }
   ],
   "source": [
    "#string\n",
    "\n",
    "message=\"I am Ethical hacker\"\n",
    "\n",
    "words = message.split()\n",
    "\n",
    "print(words)\n",
    "join= \"->\".join(words)   \n",
    "print(join)\n",
    "print(message.upper())\n",
    "print(message.lower())\n",
    "\n",
    "\n"
   ]
  },
  {
   "cell_type": "code",
   "execution_count": 119,
   "id": "fd25e47e",
   "metadata": {},
   "outputs": [
    {
     "name": "stdout",
     "output_type": "stream",
     "text": [
      "the value is 6\n"
     ]
    }
   ],
   "source": [
    "#permutation and combination\n",
    "\n",
    "#calcutate the factorial \n",
    "\n",
    "n=int(input(\"Enter the value :\"))\n",
    "def fact(n):\n",
    "    if(n==0):\n",
    "        return 1\n",
    "    else:\n",
    "        return (n*fact(n-1))\n",
    "\n",
    "fact(n)\n",
    "print(\"the value is\",fact(n))\n",
    "\n"
   ]
  },
  {
   "cell_type": "markdown",
   "id": "3c627274",
   "metadata": {},
   "source": [
    "#"
   ]
  },
  {
   "cell_type": "markdown",
   "id": "23a46158",
   "metadata": {},
   "source": [
    "# "
   ]
  },
  {
   "cell_type": "markdown",
   "id": "6e233d40",
   "metadata": {},
   "source": [
    "# Permutation and Combination \n",
    "\n",
    "## Itertool text module:\n",
    "- Iterate tool module helps to generate permutation and combinations using nested loops\n",
    "- Product() all possible combination i.e. Cartesian product . It helps to generate multiple password combinations"
   ]
  },
  {
   "cell_type": "markdown",
   "id": "bfd40fe3",
   "metadata": {},
   "source": []
  },
  {
   "cell_type": "code",
   "execution_count": 123,
   "id": "befbd4d1",
   "metadata": {},
   "outputs": [
    {
     "name": "stdout",
     "output_type": "stream",
     "text": [
      "aa\n",
      "ab\n",
      "a1\n",
      "ba\n",
      "bb\n",
      "b1\n",
      "1a\n",
      "1b\n",
      "11\n"
     ]
    }
   ],
   "source": [
    "import itertools\n",
    "\n",
    "char ='ab1'\n",
    "length =2\n",
    "\n",
    "for combo in itertools.product(char, repeat=length):\n",
    "    print(''.join(combo))"
   ]
  },
  {
   "cell_type": "markdown",
   "id": "c09a8173",
   "metadata": {},
   "source": []
  },
  {
   "cell_type": "markdown",
   "id": "b3120198",
   "metadata": {},
   "source": [
    "# Password and Combination\n",
    "\n",
    "# Password and Combinations\n",
    "\n",
    "| Charset                   | Size | Description                  |\n",
    "|---------------------------|------|------------------------------|\n",
    "| Digit only (0–9)          | 10   | Numbers from 0 to 9          |\n",
    "| Lowercase Char (a–z)      | 26   | Lowercase English letters    |\n",
    "| Uppercase Char (A–Z)      | 26   | Uppercase English letters    |\n",
    "| Alpha + Numeric           | 36   | a–z and 0–9                  |\n",
    "| AlphaNumeric + Uppercase | 62   | a–z, A–Z, and 0–9            |"
   ]
  },
  {
   "cell_type": "markdown",
   "id": "da9f8107",
   "metadata": {},
   "source": []
  },
  {
   "cell_type": "markdown",
   "id": "b139cb6f",
   "metadata": {},
   "source": [
    "# We are trying to attack the password then what can be the combinations\n",
    "\n",
    "\n",
    "|Password length | Char Length    | Total Attempts |Time |\n",
    "|----------------|----------------|----------------|-----|\n",
    "|3 digit |10|10^3=1000|1 sec\n",
    "|4 digit and lower case |26|26^4=456,976|7.5 min"
   ]
  },
  {
   "cell_type": "markdown",
   "id": "6bbe32ba",
   "metadata": {},
   "source": []
  },
  {
   "cell_type": "markdown",
   "id": "b3f908cb",
   "metadata": {},
   "source": []
  }
 ],
 "metadata": {
  "kernelspec": {
   "display_name": "Python 3",
   "language": "python",
   "name": "python3"
  },
  "language_info": {
   "codemirror_mode": {
    "name": "ipython",
    "version": 3
   },
   "file_extension": ".py",
   "mimetype": "text/x-python",
   "name": "python",
   "nbconvert_exporter": "python",
   "pygments_lexer": "ipython3",
   "version": "3.13.2"
  }
 },
 "nbformat": 4,
 "nbformat_minor": 5
}
