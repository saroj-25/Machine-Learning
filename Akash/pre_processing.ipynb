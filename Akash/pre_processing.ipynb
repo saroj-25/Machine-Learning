{
 "cells": [
  {
   "cell_type": "markdown",
   "id": "22b390d3",
   "metadata": {},
   "source": [
    "# Introduction to OpenCV\n",
    "\n",
    "## OpenCV is like a tool that leads computer to see and understand images/videos just like human do\n",
    "\n",
    "### It provides features like:\n",
    "    - We can work with images and videos (read, write, manipulate)\n",
    "    - Images transformation (size, resize, reshape, blur and so on )\n",
    "    -  Detect edge, frame, face and so on\n",
    "    - Works with real time video streaming (Like a webcam )\n",
    "    - Build AI/ML applications like (face recognization, obj recognization , object detection etc using this library)\n",
    "\n",
    " ### What we are doing ?\n",
    "        - Image Processing : Image load, resixe ,RGB-Grayscale\n",
    "        - Color Conversions\n",
    "        - Draw a shape and objects \n",
    "        - Filtering and Bluring \n",
    "        - Edge detection \n",
    "        - Thresholding: erosion and dilation \n",
    "        - Morphological Operations\n",
    "        - Face detection\n",
    "        - Video Processing\n",
    "        - Saving the module"
   ]
  },
  {
   "cell_type": "code",
   "execution_count": 1,
   "id": "8f61400f",
   "metadata": {},
   "outputs": [
    {
     "name": "stdout",
     "output_type": "stream",
     "text": [
      "True\n"
     ]
    }
   ],
   "source": [
    "#import and load image\n",
    "# import matplotlib.pyplot as plt\n",
    "import cv2\n",
    "\n",
    "import os\n",
    "# print(os.getcwd()) \n",
    "\n",
    "\n",
    "print(os.path.exists(\"/Users/aryalakash5/Desktop/Machine-l/Akash-Machine-Learning/Akash/lion.jpg\"))\n",
    "\n",
    "\n",
    "#load your image \n",
    "\n",
    "img=cv2.imread(\"/Users/aryalakash5/Desktop/Machine-l/Akash-Machine-Learning/Akash/lion.jpg\") \n",
    "#show image\n",
    "\n",
    "if img is None: \n",
    "    print(\"Unable to import image\")\n",
    "    \n",
    "cv2.imshow(\"Original Image\",img)\n",
    "cv2.waitKey(0)\n",
    "cv2.destroyAllWindows()"
   ]
  },
  {
   "cell_type": "code",
   "execution_count": 2,
   "id": "cea11767",
   "metadata": {},
   "outputs": [
    {
     "data": {
      "text/plain": [
       "113"
      ]
     },
     "execution_count": 2,
     "metadata": {},
     "output_type": "execute_result"
    }
   ],
   "source": [
    "# convert image to grayscale\n",
    "\n",
    "gray = cv2.cvtColor(img,cv2.COLOR_BGR2GRAY)\n",
    "cv2.imshow(\"GrayScale Image\", gray)\n",
    "cv2.waitKey(0)"
   ]
  },
  {
   "cell_type": "code",
   "execution_count": 3,
   "id": "f4633614",
   "metadata": {},
   "outputs": [
    {
     "data": {
      "text/plain": [
       "113"
      ]
     },
     "execution_count": 3,
     "metadata": {},
     "output_type": "execute_result"
    }
   ],
   "source": [
    "# Resize image and crop image\n",
    "resized= cv2.resize(img,(400,200))\n",
    "cv2.imshow(\"Resized images\",resized)\n",
    "cv2.waitKey(0)\n",
    "\n",
    "#crop image\n",
    "cropeed= img[50:200, 100:300]\n",
    "cv2.imshow(\"Cropped images\",cropeed)\n",
    "cv2.waitKey(0)"
   ]
  },
  {
   "cell_type": "code",
   "execution_count": 4,
   "id": "7cda52fe",
   "metadata": {},
   "outputs": [],
   "source": [
    "import cv2\n",
    "\n",
    "# Resize (if needed)\n",
    "img = cv2.resize(img, (700, 800))\n",
    "\n",
    "# Draw a line\n",
    "cv2.line(img, (50, 50), (200, 50), (255, 0, 0), 3)\n",
    "\n",
    "# Draw a rectangle\n",
    "cv2.rectangle(img, (50, 100), (200, 200), (0, 255, 0), 2)\n",
    "\n",
    "# Draw a circle\n",
    "cv2.circle(img, (100, 100), 40, (0, 0, 255), -1)\n",
    "\n",
    "# Add text\n",
    "cv2.putText(img, \"OpenCV course\", (400, 300),cv2.FONT_HERSHEY_SIMPLEX, 1, (0,0, 0), 2)\n",
    "\n",
    "# Show the result\n",
    "cv2.imshow(\"Shapes and Images\", img)\n",
    "cv2.waitKey(0)\n",
    "cv2.destroyAllWindows()"
   ]
  },
  {
   "cell_type": "code",
   "execution_count": 5,
   "id": "84e16738",
   "metadata": {},
   "outputs": [
    {
     "data": {
      "text/plain": [
       "113"
      ]
     },
     "execution_count": 5,
     "metadata": {},
     "output_type": "execute_result"
    }
   ],
   "source": [
    "# blur the image\n",
    "blur = cv2.GaussianBlur(gray,(15,15),0)\n",
    "cv2.imshow(\"Blurred image\",blur)\n",
    "cv2.waitKey(0)"
   ]
  },
  {
   "cell_type": "code",
   "execution_count": 6,
   "id": "6358f272",
   "metadata": {},
   "outputs": [
    {
     "data": {
      "text/plain": [
       "113"
      ]
     },
     "execution_count": 6,
     "metadata": {},
     "output_type": "execute_result"
    }
   ],
   "source": [
    "# Edge detection \n",
    "edges = cv2.Canny(gray,100,200)\n",
    "cv2.imshow(\"Canny Edges\", edges)\n",
    "cv2.waitKey(0)"
   ]
  },
  {
   "cell_type": "code",
   "execution_count": 7,
   "id": "b46266c9",
   "metadata": {},
   "outputs": [
    {
     "data": {
      "text/plain": [
       "113"
      ]
     },
     "execution_count": 7,
     "metadata": {},
     "output_type": "execute_result"
    }
   ],
   "source": [
    "# image thresholding (Binary)\n",
    "_,binary = cv2.threshold(gray,127,255,cv2.THRESH_BINARY)\n",
    "cv2.imshow(\"Binary Threshold Images\",binary)\n",
    "cv2.waitKey(0)"
   ]
  },
  {
   "cell_type": "code",
   "execution_count": 8,
   "id": "437cc130",
   "metadata": {},
   "outputs": [
    {
     "data": {
      "text/plain": [
       "113"
      ]
     },
     "execution_count": 8,
     "metadata": {},
     "output_type": "execute_result"
    }
   ],
   "source": [
    "# merphological operations\n",
    "\n",
    "import numpy as np\n",
    "import cv2\n",
    "kernal = np.ones((5,5), np.uint8)\n",
    "\n",
    "dilation = cv2.dilate(binary, kernal, iterations=1)\n",
    "erosion = cv2.erode(binary, kernal, iterations=1)\n",
    "\n",
    "cv2.imshow(\"Dilation\", dilation)\n",
    "cv2.imshow(\"Erosion\",erosion)\n",
    "cv2.waitKey(0)"
   ]
  },
  {
   "cell_type": "code",
   "execution_count": 10,
   "id": "c87797df",
   "metadata": {},
   "outputs": [],
   "source": [
    "# face detection \n",
    "face_cascade = cv2.CascadeClassifier(cv2.data.haarcascades\n",
    "+\"haarcascade_frontalface_default.xml\")\n",
    "face_img = cv2.imread(\"elon.jpg\")\n",
    "gray_face = cv2.cvtColor(face_img, cv2.COLOR_BGR2GRAY)\n",
    "faces = face_cascade.detectMultiScale(gray_face, 1.1, 5)\n",
    "\n",
    "# Draw rectangle around each face\n",
    "for (x, y, w, h) in faces:\n",
    "    cv2.rectangle(face_img, (x, y), (x+w, y+h), (0, 255, 0), 2)\n",
    "\n",
    "# Show result\n",
    "cv2.imshow(\"Face detection\", face_img)\n",
    "cv2.waitKey(0)\n",
    "cv2.destroyAllWindows()"
   ]
  },
  {
   "cell_type": "code",
   "execution_count": null,
   "id": "4d6278d0",
   "metadata": {},
   "outputs": [],
   "source": [
    "# Video capture\n",
    "cap=cv2.VideoCapture(0)\n",
    "while True:\n",
    "    ret,frame=cap.read()\n",
    "    gray=cv2.cvtColor(frame,cv2.COLOR_BGR2GRAY)\n",
    "    cv2.imshow(\"Webcam\",gray)\n",
    "\n",
    "    if cv2.waitKey(1) & 0xFF==ord('q'):\n",
    "        break\n",
    "cap.release()\n",
    "cv2.destroyAllWindows()"
   ]
  },
  {
   "cell_type": "code",
   "execution_count": 13,
   "id": "6e0fcb24",
   "metadata": {},
   "outputs": [
    {
     "data": {
      "text/plain": [
       "True"
      ]
     },
     "execution_count": 13,
     "metadata": {},
     "output_type": "execute_result"
    }
   ],
   "source": [
    "# save\n",
    "cv2.imwrite(\"Output_gray.jpg\",gray)\n",
    "cv2.imwrite(\"edge.jpg\",edges)"
   ]
  },
  {
   "cell_type": "code",
   "execution_count": null,
   "id": "7b1b65da",
   "metadata": {},
   "outputs": [],
   "source": []
  }
 ],
 "metadata": {
  "kernelspec": {
   "display_name": "Python 3",
   "language": "python",
   "name": "python3"
  },
  "language_info": {
   "codemirror_mode": {
    "name": "ipython",
    "version": 3
   },
   "file_extension": ".py",
   "mimetype": "text/x-python",
   "name": "python",
   "nbconvert_exporter": "python",
   "pygments_lexer": "ipython3",
   "version": "3.11.13"
  }
 },
 "nbformat": 4,
 "nbformat_minor": 5
}
