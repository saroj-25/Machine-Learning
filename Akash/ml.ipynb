{
 "cells": [
  {
   "cell_type": "markdown",
   "id": "b7816ae1",
   "metadata": {},
   "source": [
    "# Machine Learning \n",
    "1. Supervised Machine Learning \n",
    "2. Unsupervised\n",
    "3. Reinforcement\n",
    "\n",
    "1. Supervised ML\n",
    "    - Learned from the labeled dataset\n",
    "    **Types**\n",
    "    - Classification : Yes/No Heart Diseases\n",
    "    - Prediction: House price"
   ]
  }
 ],
 "metadata": {
  "language_info": {
   "name": "python"
  }
 },
 "nbformat": 4,
 "nbformat_minor": 5
}
