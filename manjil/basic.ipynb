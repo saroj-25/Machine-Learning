{
 "cells": [
  {
   "cell_type": "markdown",
   "id": "edf128b3",
   "metadata": {},
   "source": [
    "# Modules : Basics of Python and Ehical hacking"
   ]
  },
  {
   "cell_type": "code",
   "execution_count": 4,
   "id": "c90ad477",
   "metadata": {},
   "outputs": [
    {
     "name": "stdout",
     "output_type": "stream",
     "text": [
      "Hello World\n"
     ]
    }
   ],
   "source": [
    "print(\"Hello World\")"
   ]
  },
  {
   "cell_type": "markdown",
   "id": "d9144968",
   "metadata": {},
   "source": [
    "## Variables in python\n",
    "### It is weakely variable type"
   ]
  },
  {
   "cell_type": "code",
   "execution_count": 3,
   "id": "9c716037",
   "metadata": {},
   "outputs": [
    {
     "name": "stdout",
     "output_type": "stream",
     "text": [
      "name->manjil\n",
      "age->21\n",
      "address->Simara Bara\n"
     ]
    }
   ],
   "source": [
    "name=\"Hacker\"\n",
    "age=21\n",
    "rating =4.9\n",
    "is_Active=True\n",
    "\n",
    "tools =[\"nmap\",\"burp suite\",\"wireshark\",\"sqlmap\"]\n",
    " \n",
    "# what will be the output of?\n",
    "# result=name+str(age)\n",
    "# print(result)\n",
    "# print(f\"{name}\\n{age}\\n{rating}\\n{is_Active}\\n{tools}\")    ## this is string interpolation\n",
    "# print(name, age, rating, is_Active, tools, sep='\\n')\n",
    "# print(tools[::-1])\n",
    "# print(list(tools))\n",
    "# number=(1,\"manjil\",\"address\",4.5)\n",
    "# print(type(number))\n",
    "# print(number[-1])\n",
    "# print(type(number[-1]))\n",
    "profile={\n",
    "    \"name\":\"manjil\",\n",
    "    \"age\":21,\n",
    "    \"address\":\"Simara Bara\",\n",
    "}\n",
    "# print(profile[\"name\"])\n",
    "# print(profile[\"age\"])\n",
    "\n",
    "\n",
    "# print(profile)\n",
    "\n",
    "# for key in profile:\n",
    "#     print(f\"{key}->{profile[key]}\")\n",
    "\n",
    "\n",
    "\n",
    "# another way to use loop \n",
    "for key, value in profile.items():\n",
    "    print(f\"{key}->{value}\")"
   ]
  },
  {
   "cell_type": "markdown",
   "id": "891b48d2",
   "metadata": {},
   "source": [
    "| Password Length | Character Set       | Set Size | Total Combinations      | Estimated Time          |\n",
    "|-----------------|---------------------|----------|--------------------------|--------------------------|\n",
    "| 3               | Digits (0–9)         | 10       | 10³ = 1,000              | 1 second                 |\n",
    "| 4               | Lowercase (a–z)      | 26       | 26⁴ = 456,976            | ~7.6 minutes             |\n",
    "| 5               | Lowercase (a–z)      | 26       | 26⁵ = 11,881,376         | ~3.3 hours               |\n",
    "| 6               | Lowercase (a–z)      | 26       | 26⁶ = 308,915,776        | ~3.6 days                |\n",
    "| 6               | Digits (0–9)         | 10       | 10⁶ = 1,000,000          | ~16.7 minutes            |\n",
    "| 6               | Alphanumeric (a–z,0–9) | 36     | 36⁶ = 2,176,782,336      | ~25 days                |\n",
    "| 6               | Lower + Upper (a–z, A–Z) | 52   | 52⁶ = 19,770,609,664     | ~229 days               |\n",
    "| 6               | All ASCII (a–z, A–Z, 0–9, symbols) | 95 | 95⁶ ≈ 735 billion | ~23 years               |\n",
    "| 7               | Lowercase (a–z)      | 26       | 26⁷ = 8,031,810,176      | ~93 days                |\n",
    "| 8               | Digits only (0–9)    | 10       | 10⁸ = 100,000,000        | ~27.8 hours             |\n",
    "| 8               | Lowercase (a–z)      | 26       | 26⁸ = 208,827,064,576    | ~6.6 years              |\n",
    "| 8               | Alphanumeric (a–z,0–9) | 36     | 36⁸ ≈ 2.8 trillion        | ~89 years               |\n",
    "| 8               | All ASCII (95 chars) | 95       | 95⁸ ≈ 6.6 quadrillion     | ~209,000 years          |\n",
    "| 10              | Digits (0–9)         | 10       | 10¹⁰ = 10,000,000,000    | ~115 days               |\n",
    "| 10              | Lowercase (a–z)      | 26       | 26¹⁰ ≈ 1.4 x"
   ]
  },
  {
   "cell_type": "code",
   "execution_count": 29,
   "id": "e30acf0b",
   "metadata": {},
   "outputs": [],
   "source": [
    "from base64 import encode\n",
    "import mysql.connector\n",
    "import hashlib\n",
    "\n",
    "# connect to mysql\n",
    "conn = mysql.connector.connect(\n",
    "    host=\"localhost\",\n",
    "    user=\"root\",\n",
    "    password=\"manjilman@18\",\n",
    "    database=\"MachineLearning\"\n",
    ")\n",
    "\n",
    "\n",
    "cur=conn.cursor()\n",
    "# cur.execute(\"SHOW DATABASES\")\n",
    "# conn.commit()\n",
    "password='manjil#'\n",
    "hased=hashlib.sha256(password.encode()).hexdigest()\n",
    "cur.execute(\"INSERT INTO Users(UserName, Password) VALUES(%s, %s)\", ('Manjil', hased))\n",
    "conn.commit()\n",
    "\n",
    "\n",
    "\n",
    "for cursor in cur:\n",
    "    print(cursor)"
   ]
  }
 ],
 "metadata": {
  "kernelspec": {
   "display_name": "Python 3",
   "language": "python",
   "name": "python3"
  },
  "language_info": {
   "codemirror_mode": {
    "name": "ipython",
    "version": 3
   },
   "file_extension": ".py",
   "mimetype": "text/x-python",
   "name": "python",
   "nbconvert_exporter": "python",
   "pygments_lexer": "ipython3",
   "version": "3.13.2"
  }
 },
 "nbformat": 4,
 "nbformat_minor": 5
}
