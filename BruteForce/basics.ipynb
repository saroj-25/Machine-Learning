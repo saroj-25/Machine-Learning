{
 "cells": [
  {
   "cell_type": "markdown",
   "id": "dae075fc",
   "metadata": {},
   "source": [
    "# Module 1: Basics of Python and Ethical Hacking"
   ]
  },
  {
   "cell_type": "code",
   "execution_count": 1,
   "id": "504dcd8a",
   "metadata": {},
   "outputs": [
    {
     "name": "stdout",
     "output_type": "stream",
     "text": [
      "Hello World\n"
     ]
    }
   ],
   "source": [
    "print (\"Hello World\")"
   ]
  },
  {
   "cell_type": "markdown",
   "id": "b3b7a4e0",
   "metadata": {},
   "source": [
    "# Variables in Python"
   ]
  },
  {
   "cell_type": "code",
   "execution_count": 2,
   "id": "350a1384",
   "metadata": {},
   "outputs": [
    {
     "name": "stdout",
     "output_type": "stream",
     "text": [
      "Hacker21\n",
      "Hacker\n",
      "21\n",
      "4.9\n",
      "True\n",
      "['map', 'wireshack', 'brup']\n",
      "['brup', 'wireshack', 'map']\n",
      "['map', 'wireshack']\n",
      "70\n",
      "<class 'int'>\n"
     ]
    }
   ],
   "source": [
    "name = \"Hacker\"\n",
    "age = 21\n",
    "rating = 4.9\n",
    "is_Active = True \n",
    "\n",
    "tools = [\"map\", \"wireshack\", \"brup\"]\n",
    "\n",
    "#What will be the output of?\n",
    "result = name+str(age)\n",
    "print(result)\n",
    "\n",
    "print(name, age, rating, is_Active, tools, sep=\"\\n\" )\n",
    "\n",
    "#Accessing last element of the list\n",
    "print(tools[::-1])\n",
    "\n",
    "#Accessing first element to the last\n",
    "print(tools[:-1])\n",
    "\n",
    "tuple = (10, 20, 30, 40, 50, 60, 70)\n",
    "print(tuple[-1])\n",
    "\n",
    "print(type(tuple[-1]))"
   ]
  },
  {
   "cell_type": "code",
   "execution_count": 3,
   "id": "7dd03c06",
   "metadata": {},
   "outputs": [
    {
     "name": "stdout",
     "output_type": "stream",
     "text": [
      "{'name': 'Rudra Karki', 'age': 21, 'roll': 101}\n",
      "name -> Rudra karki\n",
      "age -> 21\n",
      "roll -> 101\n"
     ]
    }
   ],
   "source": [
    "student = {\n",
    "    \"name\": \"Rudra Karki\",\n",
    "    \"age\": 21,\n",
    "    \"roll\": 101\n",
    "}\n",
    "\n",
    "# Print the dictionary\n",
    "print(student)\n",
    "\n",
    "student = {\n",
    "    \"name\": \"Rudra karki\",\n",
    "    \"age\": 21,\n",
    "    \"roll\": 101\n",
    "}\n",
    "\n",
    "# Loop through the dictionary and print key -> value\n",
    "for key, value in student.items():\n",
    "    print(f\"{key} -> {value}\")"
   ]
  },
  {
   "cell_type": "code",
   "execution_count": 4,
   "id": "4a6ff15d",
   "metadata": {},
   "outputs": [
    {
     "name": "stdout",
     "output_type": "stream",
     "text": [
      "*\n",
      "**\n",
      "***\n"
     ]
    }
   ],
   "source": [
    "n=5\n",
    "for i  in  range(1,n-1):\n",
    " print(\"*\"*i)"
   ]
  },
  {
   "cell_type": "code",
   "execution_count": 5,
   "id": "ad4f122e",
   "metadata": {},
   "outputs": [
    {
     "name": "stdout",
     "output_type": "stream",
     "text": [
      "         *\n",
      "        ***\n",
      "       *****\n",
      "      *******\n",
      "     *********\n",
      "    ***********\n",
      "   *************\n",
      "  ***************\n",
      " *****************\n"
     ]
    }
   ],
   "source": [
    "n = 10\n",
    "for i in range(1, n):\n",
    "    print(\" \" * (n - i) + \"*\" * (2 * i - 1))\n"
   ]
  },
  {
   "cell_type": "code",
   "execution_count": 6,
   "id": "1bcdff87",
   "metadata": {},
   "outputs": [
    {
     "name": "stdout",
     "output_type": "stream",
     "text": [
      "         *\n",
      "        ***\n",
      "       *****\n",
      "      *******\n"
     ]
    }
   ],
   "source": [
    "row = 4\n",
    "for i in range (1,  row+1):\n",
    "    print(\" \"*(n-i)+\"*\"*(2*i-1))\n",
    " "
   ]
  },
  {
   "cell_type": "code",
   "execution_count": 7,
   "id": "aecc9317",
   "metadata": {},
   "outputs": [
    {
     "name": "stdout",
     "output_type": "stream",
     "text": [
      "0\n",
      "10\n",
      "010\n",
      "1010\n"
     ]
    }
   ],
   "source": [
    "#Binary Hacker Triangle\n",
    "\n",
    "'''\n",
    "0\n",
    "1 0\n",
    "0 1 0\n",
    "1 0 1 0\n",
    "0 1 0 1 0 \n",
    "'''\n",
    "\n",
    "rows = int(input(\"Enter the row value\"))\n",
    "for i in range(1, row+1):\n",
    "    for j in range(1, i+1):\n",
    "        print((i+j)%2, end=\"\")\n",
    "    print()"
   ]
  },
  {
   "cell_type": "code",
   "execution_count": 8,
   "id": "f3c73349",
   "metadata": {},
   "outputs": [
    {
     "data": {
      "text/plain": [
       "8"
      ]
     },
     "execution_count": 8,
     "metadata": {},
     "output_type": "execute_result"
    }
   ],
   "source": [
    "#Functions in Python\n",
    "\n",
    "'''\n",
    "    Calculate the area of square using function\n",
    "'''\n",
    "def calculateArea(a, b):\n",
    "    return a*b\n",
    "\n",
    "a = int(input(\"Enter the value of a\"))\n",
    "b = int(input(\"Enter the value of b\"))\n",
    "\n",
    "#call function\n",
    "\n",
    "calculateArea(a, b)\n",
    "\n"
   ]
  },
  {
   "cell_type": "code",
   "execution_count": 9,
   "id": "f17aca85",
   "metadata": {},
   "outputs": [
    {
     "name": "stdout",
     "output_type": "stream",
     "text": [
      "Area of Triangle: 4.5\n"
     ]
    }
   ],
   "source": [
    "import math  \n",
    "\n",
    "def area_triangle(b, h):\n",
    "    return 0.5 * b * h\n",
    "\n",
    "def area_circle(r):\n",
    "    return math.pi * r * r\n",
    "\n",
    "def area_square(l):\n",
    "    return l * l\n",
    "\n",
    "def area_rectangle(l, b):\n",
    "    return l * b\n",
    "\n",
    "shape = int(input(\"Shape (1:Triangle, 2:Circle, 3:Square, 4:Rectangle): \"))\n",
    "\n",
    "if shape == 1:\n",
    "    b = int(input(\"Base: \"))\n",
    "    h = int(input(\"Height: \"))\n",
    "    result = area_triangle(b, h)\n",
    "    print(\"Area of Triangle:\", result)\n",
    "\n",
    "elif shape == 2:\n",
    "    r = int(input(\"Radius: \"))\n",
    "    result = area_circle(r)\n",
    "    print(\"Area of Circle:\", result)\n",
    "\n",
    "elif shape == 3:\n",
    "    l = int(input(\"Side: \"))\n",
    "    result = area_square(l)\n",
    "    print(\"Area of Square:\", result)\n",
    "\n",
    "elif shape == 4:\n",
    "    l = int(input(\"Length: \"))\n",
    "    b = int(input(\"Breadth: \"))\n",
    "    result = area_rectangle(l, b)\n",
    "    print(\"Area of Rectangle:\", result)\n",
    "\n",
    "else:\n",
    "    print(\"Invalid choice!\")\n"
   ]
  },
  {
   "cell_type": "markdown",
   "id": "39e4f2ba",
   "metadata": {},
   "source": [
    "#qwargs\n",
    "\n",
    "\n",
    "# args \n",
    "\n",
    "def my_fuction():\n",
    "args = (1,5,7)\n",
    "my_function(*args)"
   ]
  },
  {
   "cell_type": "code",
   "execution_count": 10,
   "id": "c11270ca",
   "metadata": {},
   "outputs": [
    {
     "name": "stdout",
     "output_type": "stream",
     "text": [
      "I am a ethical hacker\n",
      "['I', 'am', 'a', 'ethical', 'hacker']\n",
      "I->am->a->ethical->hacker\n",
      "I AM A ETHICAL HACKER\n",
      "i am a ethical hacker\n"
     ]
    }
   ],
   "source": [
    "#STRING\n",
    "\n",
    "message = \"I am a ethical hacker\"\n",
    "words = message.split()\n",
    "\n",
    "print(message)\n",
    "print(words)\n",
    "\n",
    "joined = \"->\".join(words)\n",
    "print(joined)\n",
    "\n",
    "print(message.upper())\n",
    "print(message.lower())"
   ]
  },
  {
   "cell_type": "code",
   "execution_count": 11,
   "id": "c49b4605",
   "metadata": {},
   "outputs": [
    {
     "name": "stdout",
     "output_type": "stream",
     "text": [
      "Factorial is: 2\n"
     ]
    }
   ],
   "source": [
    "#Calculate Factorial using Recursion\n",
    "\n",
    "def factorial(n):\n",
    "    if n == 0 or n == 1:\n",
    "        return 1\n",
    "    return n * factorial(n - 1)\n",
    "\n",
    "num = int(input(\"Enter a number: \"))\n",
    "print(\"Factorial is:\", factorial(num))\n"
   ]
  },
  {
   "cell_type": "markdown",
   "id": "9634819e",
   "metadata": {},
   "source": [
    "# Permutation and Combination\n",
    "\n",
    "## Iterate tool module\n",
    "- Iterate tool module helps to generate permutation and combination using nested loops \n",
    "- **product()** all possible combination i.e.e Cartician Product. It helps to generate multiple password combinations."
   ]
  },
  {
   "cell_type": "code",
   "execution_count": 12,
   "id": "270d6eac",
   "metadata": {},
   "outputs": [
    {
     "name": "stdout",
     "output_type": "stream",
     "text": [
      "aa\n",
      "ab\n",
      "al\n",
      "ba\n",
      "bb\n",
      "bl\n",
      "la\n",
      "lb\n",
      "ll\n"
     ]
    }
   ],
   "source": [
    "import itertools\n",
    "\n",
    "char = 'abl'\n",
    "length = 2\n",
    "\n",
    "for combo in itertools.product(char, repeat = length):\n",
    "    print(''.join(combo))"
   ]
  },
  {
   "cell_type": "code",
   "execution_count": 13,
   "id": "382add4d",
   "metadata": {},
   "outputs": [
    {
     "name": "stdout",
     "output_type": "stream",
     "text": [
      "111\n",
      "112\n",
      "113\n",
      "121\n",
      "122\n",
      "123\n",
      "131\n",
      "132\n",
      "133\n",
      "211\n",
      "212\n",
      "213\n",
      "221\n",
      "222\n",
      "223\n",
      "231\n",
      "232\n",
      "233\n",
      "311\n",
      "312\n",
      "313\n",
      "321\n",
      "322\n",
      "323\n",
      "331\n",
      "332\n",
      "333\n"
     ]
    }
   ],
   "source": [
    "import itertools\n",
    "\n",
    "char = '123'\n",
    "length = 3\n",
    "\n",
    "for combo in itertools.product(char, repeat = length):\n",
    "    print(''.join(combo))"
   ]
  },
  {
   "cell_type": "markdown",
   "id": "777a3b2f",
   "metadata": {},
   "source": [
    "# Password and Combinations \n",
    "\n",
    "\n",
    "| Charset                   | Size | Description                  |\n",
    "|---------------------------|------|------------------------------|\n",
    "| Digit only (0–9)          | 10   | Numbers from 0 to 9          |\n",
    "| Lowercase Char (a–z)      | 26   | Lowercase English letters    |\n",
    "| Uppercase Char (A–Z)      | 26   | Uppercase English letters    |\n",
    "| Alpha + Numeric           | 36   | a–z and 0–9                  |\n",
    "| AlphaNumeric + Uppercase  | 62   | a–z, A–Z, and 0–9            |"
   ]
  },
  {
   "cell_type": "markdown",
   "id": "d86760a0",
   "metadata": {},
   "source": [
    "# We are trying to attack the password then what can be the combinations \n",
    "\n",
    "| Password Length | Character Set       | Set Size | Total Combinations      | Estimated Time          |\n",
    "|-----------------|---------------------|----------|--------------------------|--------------------------|\n",
    "| 3               | Digits (0–9)         | 10       | 10³ = 1,000              | 1 second                 |\n",
    "| 4               | Lowercase (a–z)      | 26       | 26⁴ = 456,976            | ~7.6 minutes             |\n",
    "| 5               | Lowercase (a–z)      | 26       | 26⁵ = 11,881,376         | ~3.3 hours               |\n",
    "| 6               | Lowercase (a–z)      | 26       | 26⁶ = 308,915,776        | ~3.6 days                |\n",
    "| 6               | Digits (0–9)         | 10       | 10⁶ = 1,000,000          | ~16.7 minutes            |\n",
    "| 6               | Alphanumeric (a–z,0–9) | 36     | 36⁶ = 2,176,782,336      | ~25 days                |\n",
    "| 6               | Lower + Upper (a–z, A–Z) | 52   | 52⁶ = 19,770,609,664     | ~229 days               |\n",
    "| 6               | All ASCII (a–z, A–Z, 0–9, symbols) | 95 | 95⁶ ≈ 735 billion | ~23 years               |\n",
    "| 7               | Lowercase (a–z)      | 26       | 26⁷ = 8,031,810,176      | ~93 days                |\n",
    "| 8               | Digits only (0–9)    | 10       | 10⁸ = 100,000,000        | ~27.8 hours             |\n",
    "| 8               | Lowercase (a–z)      | 26       | 26⁸ = 208,827,064,576    | ~6.6 years              |\n",
    "| 8               | Alphanumeric (a–z,0–9) | 36     | 36⁸ ≈ 2.8 trillion        | ~89 years               |\n",
    "| 8               | All ASCII (95 chars) | 95       | 95⁸ ≈ 6.6 quadrillion     | ~209,000 years          |\n",
    "| 10              | Digits (0–9)         | 10       | 10¹⁰ = 10,000,000,000    | ~115 days               |\n",
    "| 10              | Lowercase (a–z)      | 26       | 26¹⁰ ≈ 1.4 x 10¹⁴         | ~4,456 years            |\n",
    "| 10              | Alphanumeric         | 36       | 36¹⁰ ≈ 3.6 x 10¹⁵         | ~114,000 years          |\n",
    "| 10              | Full ASCII (95)      | 95       | 95¹⁰ ≈ 5.99 x 10¹⁹        | ~1.9 billion years      |"
   ]
  },
  {
   "cell_type": "code",
   "execution_count": null,
   "id": "eca4c130",
   "metadata": {},
   "outputs": [
    {
     "name": "stdout",
     "output_type": "stream",
     "text": [
      "(24, 'hwjqfbvhdsvbhvdc', '441bc9547df83c0b29559f7f6a8fab6fe7bd568176714e11236a64c0acfc8116')\n",
      "(25, 'havbhasnbc', 'fc21e5fcba402dbd29de2b79dbca56b1d1b3a9b1f694c970fcda4cfa7d8c9635')\n",
      "(26, 'hrebvfhsnvbsfd', 'd784c8a926fb366a8e1a19775226b2d1c58faebe9b6a4944750c9414f7a09390')\n",
      "(27, 'rudra123456789', '27cc6994fc1c01ce6659c6bddca9b69c4c6a9418065e612c69d110b3f7b11f8a')\n",
      "(28, 'hello1234567', 'fa8591b73fa03e7d19d9c0db430ec6c36f73220624ca45502021284d0bbfcdcc')\n",
      "(29, 'rudra', 'rudra123')\n",
      "(30, 'rudra12345', '6fba6084aceb6298760818e53c3efab21d3e7e33716b694b64995206ec944d8a')\n",
      "(32, 'jwebjabd;kjbdA', 'd4b8eee612dbe9982e7bdd88e0f6617be89143a778bcdc94012bbc391732e47d')\n",
      "(33, 'rudrabahadurkarki', '6191e08def595aa12b37656221668d0beffa79a5a060235aeebaf866bd01e371')\n",
      "(35, 'fdnsvbjksbvkjv54654jfkbvj', 'e3cba70a04c469d7e3e73373f90e58b85eb29ec39a7851d4c7850e865f267aef')\n",
      "(36, 'rudra25514654324', '89594ed0c6048fe0e4a553de494685d364bad77afe611b81d8561ced2cdc7509')\n",
      "(37, 'ewhkbfdj;afbd', '513931c0a4d3b034bda8e8264c4cd19bc1806a16514b4b273c63840d1c3c545d')\n",
      "(38, 'whjbfknsbvksbdjk', '6980676f034896196bfb1c32c62d5a9c72ccf4fef669e7321eda03759ecd9b78')\n",
      "(39, 'j;jbkjbkjhbkjbjb', '7c62795a433ca37a2b0b5cbc019ea9c89952e291142e172fe6b545e130609317')\n",
      "(40, 'rudra123456987', '3cad99b509bc05953a87055836150ac1e760e83fcc325c59cfccf4f52038f5e0')\n",
      "(41, 'rudrakarki123', '184484ff417bdf80fa085db17aa9dc69aad7bfbcf69d820345ec99ee90357a52')\n",
      "(42, 'rudra1234', '714105a4fe714a18f4beeb846d110bcdc258b51cf8c9524cf436f28825b42d98')\n",
      "(43, 'rudrabahadur123', '5e249a0f1af5390ea864e861b48f6971004cf195a13ccc79aba0a5916863bd91')\n",
      "(44, 'rks', '317bc76645d377048f4b8e44d1c33b340fdccb1508cd2465c802a89935ddb890')\n",
      "(46, 'rkss', 'a5922038a8160285ec19aa3ffc170bda726af3ac7763f704389e13062b14b562')\n",
      "(47, 'helloguys', 'ac519275cc77a8f89e150aa78b94e9ab8ac85b68d15ced4a2958bbc54c8f0a15')\n",
      "(48, 'rudrahello', '4fa29adcee14afec99bcb72a3093666e710c56d5a576eecbb3c95db2c0dc2485')\n",
      "(50, 'hellorudra', '4c2d3abb9b47b729508e4c3b4b0e4e157fcf705d06929d58844108e66b00b1e4')\n",
      "(51, 'rudrabdr', 'c8250c3ae7ecba9a6a2e0c7e698dfb8ca7c5252a746aed4273f6e336e6bb8752')\n",
      "(52, 'sujal123', '0e1ea71dd365dd8ec61b56e78c6a4a6f2f235a2c34a60028cb3b1b01395c9176')\n",
      "(53, 'rudra33', 'a994696540befd55c96017a162c7ae2685f2010a7fd3224c0ada25241913933b')\n",
      "(55, 'rudra123456', 'eb5fdc8a4c17c753a78e88e347ea9d8d9bb8823f6bd39a52535af6c617dde9de')\n",
      "(56, 'hello222', '7f4f593ee3ac429fd845f3d36cdfb52c7fa51daa7825669308a8d5ac83f0463b')\n",
      "(73, 'rudra12', 'rudra123')\n"
     ]
    }
   ],
   "source": [
    "import mysql.connector\n",
    "from mysql.connector import Error\n",
    "\n",
    "try:\n",
    "    conn = mysql.connector.connect(\n",
    "        host=\"localhost\",\n",
    "        user=\"root\",\n",
    "        password=\"rudra123\",\n",
    "        database=\"Machinelearning\"\n",
    "    )\n",
    "    cur = conn.cursor()\n",
    "\n",
    "    # Insert user\n",
    "    cur.execute(\"INSERT INTO Users(UserName, Password) VALUES (%s, %s)\", ('rudra12', 'rudra123'))\n",
    "    conn.commit()  \n",
    "\n",
    "    # Fetch users\n",
    "    cur.execute(\"SELECT * FROM Users\")\n",
    "    rows = cur.fetchall()\n",
    "    for row in rows:\n",
    "        print(row)\n",
    "\n",
    "except Error as e:\n",
    "    print(\"Error:\", e)\n",
    "finally:\n",
    "    if cur:\n",
    "        cur.close()\n",
    "    if conn:\n",
    "        conn.close()\n"
   ]
  },
  {
   "cell_type": "code",
   "execution_count": 2,
   "id": "ba1f1643",
   "metadata": {},
   "outputs": [
    {
     "name": "stdout",
     "output_type": "stream",
     "text": [
      "(24, 'hwjqfbvhdsvbhvdc', '441bc9547df83c0b29559f7f6a8fab6fe7bd568176714e11236a64c0acfc8116')\n",
      "(25, 'havbhasnbc', 'fc21e5fcba402dbd29de2b79dbca56b1d1b3a9b1f694c970fcda4cfa7d8c9635')\n",
      "(26, 'hrebvfhsnvbsfd', 'd784c8a926fb366a8e1a19775226b2d1c58faebe9b6a4944750c9414f7a09390')\n",
      "(27, 'rudra123456789', '27cc6994fc1c01ce6659c6bddca9b69c4c6a9418065e612c69d110b3f7b11f8a')\n",
      "(28, 'hello1234567', 'fa8591b73fa03e7d19d9c0db430ec6c36f73220624ca45502021284d0bbfcdcc')\n",
      "(29, 'rudra', 'rudra123')\n",
      "(30, 'rudra12345', '6fba6084aceb6298760818e53c3efab21d3e7e33716b694b64995206ec944d8a')\n",
      "(32, 'jwebjabd;kjbdA', 'd4b8eee612dbe9982e7bdd88e0f6617be89143a778bcdc94012bbc391732e47d')\n",
      "(33, 'rudrabahadurkarki', '6191e08def595aa12b37656221668d0beffa79a5a060235aeebaf866bd01e371')\n",
      "(35, 'fdnsvbjksbvkjv54654jfkbvj', 'e3cba70a04c469d7e3e73373f90e58b85eb29ec39a7851d4c7850e865f267aef')\n",
      "(36, 'rudra25514654324', '89594ed0c6048fe0e4a553de494685d364bad77afe611b81d8561ced2cdc7509')\n",
      "(37, 'ewhkbfdj;afbd', '513931c0a4d3b034bda8e8264c4cd19bc1806a16514b4b273c63840d1c3c545d')\n",
      "(38, 'whjbfknsbvksbdjk', '6980676f034896196bfb1c32c62d5a9c72ccf4fef669e7321eda03759ecd9b78')\n",
      "(39, 'j;jbkjbkjhbkjbjb', '7c62795a433ca37a2b0b5cbc019ea9c89952e291142e172fe6b545e130609317')\n",
      "(40, 'rudra123456987', '3cad99b509bc05953a87055836150ac1e760e83fcc325c59cfccf4f52038f5e0')\n",
      "(41, 'rudrakarki123', '184484ff417bdf80fa085db17aa9dc69aad7bfbcf69d820345ec99ee90357a52')\n",
      "(42, 'rudra1234', '714105a4fe714a18f4beeb846d110bcdc258b51cf8c9524cf436f28825b42d98')\n",
      "(43, 'rudrabahadur123', '5e249a0f1af5390ea864e861b48f6971004cf195a13ccc79aba0a5916863bd91')\n",
      "(44, 'rks', '317bc76645d377048f4b8e44d1c33b340fdccb1508cd2465c802a89935ddb890')\n",
      "(46, 'rkss', 'a5922038a8160285ec19aa3ffc170bda726af3ac7763f704389e13062b14b562')\n",
      "(47, 'helloguys', 'ac519275cc77a8f89e150aa78b94e9ab8ac85b68d15ced4a2958bbc54c8f0a15')\n",
      "(48, 'rudrahello', '4fa29adcee14afec99bcb72a3093666e710c56d5a576eecbb3c95db2c0dc2485')\n",
      "(50, 'hellorudra', '4c2d3abb9b47b729508e4c3b4b0e4e157fcf705d06929d58844108e66b00b1e4')\n",
      "(51, 'rudrabdr', 'c8250c3ae7ecba9a6a2e0c7e698dfb8ca7c5252a746aed4273f6e336e6bb8752')\n",
      "(52, 'sujal123', '0e1ea71dd365dd8ec61b56e78c6a4a6f2f235a2c34a60028cb3b1b01395c9176')\n",
      "(53, 'rudra33', 'a994696540befd55c96017a162c7ae2685f2010a7fd3224c0ada25241913933b')\n",
      "(55, 'rudra123456', 'eb5fdc8a4c17c753a78e88e347ea9d8d9bb8823f6bd39a52535af6c617dde9de')\n",
      "(56, 'hello222', '7f4f593ee3ac429fd845f3d36cdfb52c7fa51daa7825669308a8d5ac83f0463b')\n",
      "(73, 'rudra12', 'rudra123')\n",
      "(79, 'rudra321', '6fba6084aceb6298760818e53c3efab21d3e7e33716b694b64995206ec944d8a')\n"
     ]
    }
   ],
   "source": [
    "import mysql.connector\n",
    "import hashlib\n",
    "import time \n",
    "# Connect to MySQL\n",
    "conn = mysql.connector.connect(\n",
    "    host=\"localhost\",\n",
    "    user=\"root\",\n",
    "    password=\"rudra123\",\n",
    "    database=\"MachineLearning\"\n",
    ")\n",
    "\n",
    "cur = conn.cursor()\n",
    "\n",
    "# Set the raw password and hash it\n",
    "raw_password = 'rudra123456'\n",
    "password = hashlib.sha256(raw_password.encode()).hexdigest()\n",
    "\n",
    "# Insert the user\n",
    "cur.execute(\"INSERT INTO Users(UserName, Password) VALUES (%s, %s)\", ('rudra321', password))\n",
    "conn.commit()\n",
    "\n",
    "# Fetch and print all users\n",
    "cur.execute(\"SELECT * FROM Users\")\n",
    "for cursor in cur:\n",
    "    print(cursor)\n",
    "    \n",
    "time.sleep(2)\n"
   ]
  },
  {
   "cell_type": "code",
   "execution_count": 3,
   "id": "1b377ba1",
   "metadata": {},
   "outputs": [
    {
     "name": "stdout",
     "output_type": "stream",
     "text": [
      "User already exists. Skipping insert.\n",
      "(24, 'hwjqfbvhdsvbhvdc', '441bc9547df83c0b29559f7f6a8fab6fe7bd568176714e11236a64c0acfc8116')\n",
      "(25, 'havbhasnbc', 'fc21e5fcba402dbd29de2b79dbca56b1d1b3a9b1f694c970fcda4cfa7d8c9635')\n",
      "(26, 'hrebvfhsnvbsfd', 'd784c8a926fb366a8e1a19775226b2d1c58faebe9b6a4944750c9414f7a09390')\n",
      "(27, 'rudra123456789', '27cc6994fc1c01ce6659c6bddca9b69c4c6a9418065e612c69d110b3f7b11f8a')\n",
      "(28, 'hello1234567', 'fa8591b73fa03e7d19d9c0db430ec6c36f73220624ca45502021284d0bbfcdcc')\n",
      "(29, 'rudra', 'rudra123')\n",
      "(30, 'rudra12345', '6fba6084aceb6298760818e53c3efab21d3e7e33716b694b64995206ec944d8a')\n",
      "(32, 'jwebjabd;kjbdA', 'd4b8eee612dbe9982e7bdd88e0f6617be89143a778bcdc94012bbc391732e47d')\n",
      "(33, 'rudrabahadurkarki', '6191e08def595aa12b37656221668d0beffa79a5a060235aeebaf866bd01e371')\n",
      "(35, 'fdnsvbjksbvkjv54654jfkbvj', 'e3cba70a04c469d7e3e73373f90e58b85eb29ec39a7851d4c7850e865f267aef')\n",
      "(36, 'rudra25514654324', '89594ed0c6048fe0e4a553de494685d364bad77afe611b81d8561ced2cdc7509')\n",
      "(37, 'ewhkbfdj;afbd', '513931c0a4d3b034bda8e8264c4cd19bc1806a16514b4b273c63840d1c3c545d')\n",
      "(38, 'whjbfknsbvksbdjk', '6980676f034896196bfb1c32c62d5a9c72ccf4fef669e7321eda03759ecd9b78')\n",
      "(39, 'j;jbkjbkjhbkjbjb', '7c62795a433ca37a2b0b5cbc019ea9c89952e291142e172fe6b545e130609317')\n",
      "(40, 'rudra123456987', '3cad99b509bc05953a87055836150ac1e760e83fcc325c59cfccf4f52038f5e0')\n",
      "(41, 'rudrakarki123', '184484ff417bdf80fa085db17aa9dc69aad7bfbcf69d820345ec99ee90357a52')\n",
      "(42, 'rudra1234', '714105a4fe714a18f4beeb846d110bcdc258b51cf8c9524cf436f28825b42d98')\n",
      "(43, 'rudrabahadur123', '5e249a0f1af5390ea864e861b48f6971004cf195a13ccc79aba0a5916863bd91')\n",
      "(44, 'rks', '317bc76645d377048f4b8e44d1c33b340fdccb1508cd2465c802a89935ddb890')\n",
      "(46, 'rkss', 'a5922038a8160285ec19aa3ffc170bda726af3ac7763f704389e13062b14b562')\n",
      "(47, 'helloguys', 'ac519275cc77a8f89e150aa78b94e9ab8ac85b68d15ced4a2958bbc54c8f0a15')\n",
      "(48, 'rudrahello', '4fa29adcee14afec99bcb72a3093666e710c56d5a576eecbb3c95db2c0dc2485')\n",
      "(50, 'hellorudra', '4c2d3abb9b47b729508e4c3b4b0e4e157fcf705d06929d58844108e66b00b1e4')\n",
      "(51, 'rudrabdr', 'c8250c3ae7ecba9a6a2e0c7e698dfb8ca7c5252a746aed4273f6e336e6bb8752')\n",
      "(52, 'sujal123', '0e1ea71dd365dd8ec61b56e78c6a4a6f2f235a2c34a60028cb3b1b01395c9176')\n",
      "(53, 'rudra33', 'a994696540befd55c96017a162c7ae2685f2010a7fd3224c0ada25241913933b')\n",
      "(55, 'rudra123456', 'eb5fdc8a4c17c753a78e88e347ea9d8d9bb8823f6bd39a52535af6c617dde9de')\n",
      "(56, 'hello222', '7f4f593ee3ac429fd845f3d36cdfb52c7fa51daa7825669308a8d5ac83f0463b')\n",
      "(73, 'rudra12', 'rudra123')\n",
      "(79, 'rudra321', '6fba6084aceb6298760818e53c3efab21d3e7e33716b694b64995206ec944d8a')\n"
     ]
    }
   ],
   "source": [
    "import mysql.connector\n",
    "import hashlib\n",
    "import time\n",
    "# Connect to MySQL\n",
    "conn = mysql.connector.connect(\n",
    "    host=\"localhost\",\n",
    "    user=\"root\",\n",
    "    password=\"rudra123\",\n",
    "    database=\"MachineLearning\"\n",
    ")\n",
    "\n",
    "cur = conn.cursor()\n",
    "\n",
    "# Set the raw password and hash it\n",
    "raw_password = 'rudra123456'\n",
    "password = hashlib.sha256(raw_password.encode()).hexdigest()\n",
    "\n",
    "# Check if the user already exists\n",
    "cur.execute(\"SELECT COUNT(*) FROM Users WHERE UserName = %s\", ('rudra12345',))\n",
    "user_exists = cur.fetchone()[0]\n",
    "\n",
    "if user_exists:\n",
    "    print(\"User already exists. Skipping insert.\")\n",
    "else:\n",
    "    # Insert the user\n",
    "    cur.execute(\"INSERT INTO Users(UserName, Password) VALUES (%s, %s)\", ('rudra12345', password))\n",
    "    conn.commit()\n",
    "\n",
    "# Fetch and print all users\n",
    "cur.execute(\"SELECT * FROM Users\")\n",
    "for cursor in cur:\n",
    "    print(cursor)\n",
    "    \n",
    "time.sleep(2)"
   ]
  },
  {
   "cell_type": "code",
   "execution_count": null,
   "id": "f8d471a0",
   "metadata": {},
   "outputs": [],
   "source": []
  }
 ],
 "metadata": {
  "kernelspec": {
   "display_name": ".venv (3.13.2)",
   "language": "python",
   "name": "python3"
  },
  "language_info": {
   "codemirror_mode": {
    "name": "ipython",
    "version": 3
   },
   "file_extension": ".py",
   "mimetype": "text/x-python",
   "name": "python",
   "nbconvert_exporter": "python",
   "pygments_lexer": "ipython3",
   "version": "3.13.2"
  }
 },
 "nbformat": 4,
 "nbformat_minor": 5
}
