{
 "cells": [
  {
   "cell_type": "markdown",
   "id": "f572129c",
   "metadata": {
    "vscode": {
     "languageId": "plaintext"
    }
   },
   "source": [
    "# Machine Leaning \n",
    "\n",
    "1. Supervised Machine learning \n",
    "2. Unsupervised \n",
    "3. Reinforcement \n",
    "\n",
    "\n",
    "1. Supervised Machine learning \n",
    "    - Supervised learning learns from the labeled dataset \n",
    "\n",
    "    **Types**\n",
    "    - Classification : Yes/ No\n",
    "    - Regression : Actual value "
   ]
  },
  {
   "cell_type": "code",
   "execution_count": null,
   "id": "ba06aaea",
   "metadata": {
    "vscode": {
     "languageId": "plaintext"
    }
   },
   "outputs": [],
   "source": []
  },
  {
   "cell_type": "code",
   "execution_count": null,
   "id": "ce0e8c51",
   "metadata": {
    "vscode": {
     "languageId": "plaintext"
    }
   },
   "outputs": [],
   "source": []
  },
  {
   "cell_type": "code",
   "execution_count": null,
   "id": "b8425b73",
   "metadata": {
    "vscode": {
     "languageId": "plaintext"
    }
   },
   "outputs": [],
   "source": []
  },
  {
   "cell_type": "code",
   "execution_count": null,
   "id": "18ea621e",
   "metadata": {
    "vscode": {
     "languageId": "plaintext"
    }
   },
   "outputs": [],
   "source": []
  }
 ],
 "metadata": {
  "language_info": {
   "name": "python"
  }
 },
 "nbformat": 4,
 "nbformat_minor": 5
}
